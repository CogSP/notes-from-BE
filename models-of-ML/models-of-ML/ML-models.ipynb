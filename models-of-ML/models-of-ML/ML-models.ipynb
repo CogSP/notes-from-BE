{
  "cells": [
    {
      "cell_type": "markdown",
      "metadata": {
        "id": "TspH1wJmAkdk"
      },
      "source": [
        "### For the homeworks we are going to use the \"[Online News Popularity Data Set](https://archive.ics.uci.edu/ml/datasets/Online+News+Popularity#)\"\n",
        "\n",
        "The dataset can be used both for regression and classification tasks.\n",
        "\n",
        "#### Source:\n",
        "\n",
        "Kelwin Fernandes INESC TEC, Porto, Portugal/Universidade do Porto, Portugal.\n",
        "Pedro Vinagre ALGORITMI Research Centre, Universidade do Minho, Portugal\n",
        "Paulo Cortez ALGORITMI Research Centre, Universidade do Minho, Portugal\n",
        "Pedro Sernadela Universidade de Aveiro\n",
        "\n",
        "#### Data Set Information:\n",
        "\n",
        "* The articles were published by Mashable (www.mashable.com) and their content as the rights to reproduce it belongs to them. Hence, this dataset does not share the original content but some statistics associated with it. The original content be publicly accessed and retrieved using the provided urls.\n",
        "* Acquisition date: January 8, 2015\n",
        "* The estimated relative performance values were estimated by the authors using a Random Forest classifier and a rolling windows as assessment method. See their article for more details on how the relative performance values were set.\n",
        "\n",
        "Attribute Information:\n",
        "\n",
        "Number of Attributes: 61 (58 predictive attributes, 2 non-predictive, 1 goal field)\n",
        "\n",
        "Attribute Information:\n",
        "0. url: URL of the article (non-predictive)\n",
        "1. timedelta: Days between the article publication and the dataset acquisition (non-predictive)\n",
        "2. n_tokens_title: Number of words in the title\n",
        "3. n_tokens_content: Number of words in the content\n",
        "4. n_unique_tokens: Rate of unique words in the content\n",
        "5. n_non_stop_words: Rate of non-stop words in the content\n",
        "6. n_non_stop_unique_tokens: Rate of unique non-stop words in the content\n",
        "7. num_hrefs: Number of links\n",
        "8. num_self_hrefs: Number of links to other articles published by Mashable\n",
        "9. num_imgs: Number of images\n",
        "10. num_videos: Number of videos\n",
        "11. average_token_length: Average length of the words in the content\n",
        "12. num_keywords: Number of keywords in the metadata\n",
        "13. data_channel_is_lifestyle: Is data channel 'Lifestyle'?\n",
        "14. data_channel_is_entertainment: Is data channel 'Entertainment'?\n",
        "15. data_channel_is_bus: Is data channel 'Business'?\n",
        "16. data_channel_is_socmed: Is data channel 'Social Media'?\n",
        "17. data_channel_is_tech: Is data channel 'Tech'?\n",
        "18. data_channel_is_world: Is data channel 'World'?\n",
        "19. kw_min_min: Worst keyword (min. shares)\n",
        "20. kw_max_min: Worst keyword (max. shares)\n",
        "21. kw_avg_min: Worst keyword (avg. shares)\n",
        "22. kw_min_max: Best keyword (min. shares)\n",
        "23. kw_max_max: Best keyword (max. shares)\n",
        "24. kw_avg_max: Best keyword (avg. shares)\n",
        "25. kw_min_avg: Avg. keyword (min. shares)\n",
        "26. kw_max_avg: Avg. keyword (max. shares)\n",
        "27. kw_avg_avg: Avg. keyword (avg. shares)\n",
        "28. self_reference_min_shares: Min. shares of referenced articles in Mashable\n",
        "29. self_reference_max_shares: Max. shares of referenced articles in Mashable\n",
        "30. self_reference_avg_sharess: Avg. shares of referenced articles in Mashable\n",
        "31. weekday_is_monday: Was the article published on a Monday?\n",
        "32. weekday_is_tuesday: Was the article published on a Tuesday?\n",
        "33. weekday_is_wednesday: Was the article published on a Wednesday?\n",
        "34. weekday_is_thursday: Was the article published on a Thursday?\n",
        "35. weekday_is_friday: Was the article published on a Friday?\n",
        "36. weekday_is_saturday: Was the article published on a Saturday?\n",
        "37. weekday_is_sunday: Was the article published on a Sunday?\n",
        "38. is_weekend: Was the article published on the weekend?\n",
        "39. LDA_00: Closeness to LDA topic 0\n",
        "40. LDA_01: Closeness to LDA topic 1\n",
        "41. LDA_02: Closeness to LDA topic 2\n",
        "42. LDA_03: Closeness to LDA topic 3\n",
        "43. LDA_04: Closeness to LDA topic 4\n",
        "44. global_subjectivity: Text subjectivity\n",
        "45. global_sentiment_polarity: Text sentiment polarity\n",
        "46. global_rate_positive_words: Rate of positive words in the content\n",
        "47. global_rate_negative_words: Rate of negative words in the content\n",
        "48. rate_positive_words: Rate of positive words among non-neutral tokens\n",
        "49. rate_negative_words: Rate of negative words among non-neutral tokens\n",
        "50. avg_positive_polarity: Avg. polarity of positive words\n",
        "51. min_positive_polarity: Min. polarity of positive words\n",
        "52. max_positive_polarity: Max. polarity of positive words\n",
        "53. avg_negative_polarity: Avg. polarity of negative words\n",
        "54. min_negative_polarity: Min. polarity of negative words\n",
        "55. max_negative_polarity: Max. polarity of negative words\n",
        "56. title_subjectivity: Title subjectivity\n",
        "57. title_sentiment_polarity: Title polarity\n",
        "58. abs_title_subjectivity: Absolute subjectivity level\n",
        "59. abs_title_sentiment_polarity: Absolute polarity level\n",
        "60. shares: Number of shares (target)\n",
        "\n",
        "\n",
        "The first two columns (url and time_delta) are non-predictive and should be ignored\n",
        "\n",
        "The last column **shares** contains the value to predict.\n",
        "\n",
        "### Regression\n",
        "In the case of regression we want to predict the value of the share column.\n",
        "\n",
        "### Classification\n",
        "In the case of classification we want to predict one of two classes:\n",
        "\n",
        "* *low* -- shares < 1,400\n",
        "* *high* -- shares >= 1,400\n",
        "\n",
        "### Metrics\n",
        "\n",
        "#### Regression\n",
        "To evaluate how good we are doing on the **regression** task we will use the Root Mean Squared Error (RMSE). RMSE is given by\n",
        "\n",
        "$$\n",
        "\\sqrt{\\frac{1}{n}\\sum\\limits_{i=1}^{n}{\\Big(d_i -f_i\\Big)^2}}\n",
        "$$\n",
        "\n",
        "\n",
        "where:\n",
        "\n",
        "* $n$ is the number of test samples\n",
        "* $d_i$ is the ground truth value of the i-th sample\n",
        "* $f_i$ is the predicted value of the i-th sample\n",
        "\n",
        "\n",
        "#### Classification\n",
        "To evaluate how good we are doing on the **classification** task we will use the accuracy metrics. Accuracy is given by\n",
        "\n",
        "$$\n",
        "\\frac{TP+TN}{TP+TN+FP+FN}\n",
        "$$\n",
        "\n",
        "where:\n",
        "\n",
        "* TP is the number of *correctly* classified positive samples\n",
        "* TN is the number of *correctly* classified negative samples\n",
        "* FP is the number of *incorrectly* classified positive samples\n",
        "* FN is the number of *incorrectly* classified negative samples"
      ]
    },
    {
      "cell_type": "code",
      "execution_count": null,
      "metadata": {
        "colab": {
          "base_uri": "https://localhost:8080/"
        },
        "id": "oesd6_bYijRo",
        "outputId": "264a9119-c9d1-4c9d-81df-91fbe5abff7e"
      },
      "outputs": [
        {
          "output_type": "stream",
          "name": "stdout",
          "text": [
            "--2023-05-27 13:27:21--  https://archive.ics.uci.edu/ml/machine-learning-databases/00332/OnlineNewsPopularity.zip\n",
            "Resolving archive.ics.uci.edu (archive.ics.uci.edu)... 128.195.10.252\n",
            "Connecting to archive.ics.uci.edu (archive.ics.uci.edu)|128.195.10.252|:443... connected.\n",
            "HTTP request sent, awaiting response... 200 OK\n",
            "Length: 7476401 (7.1M) [application/x-httpd-php]\n",
            "Saving to: ‘OnlineNewsPopularity.zip’\n",
            "\n",
            "OnlineNewsPopularit 100%[===================>]   7.13M  6.00MB/s    in 1.2s    \n",
            "\n",
            "2023-05-27 13:27:22 (6.00 MB/s) - ‘OnlineNewsPopularity.zip’ saved [7476401/7476401]\n",
            "\n"
          ]
        }
      ],
      "source": [
        "!wget https://archive.ics.uci.edu/ml/machine-learning-databases/00332/OnlineNewsPopularity.zip"
      ]
    },
    {
      "cell_type": "code",
      "execution_count": null,
      "metadata": {
        "colab": {
          "base_uri": "https://localhost:8080/"
        },
        "id": "gmad6QdZ_nFR",
        "outputId": "951a4e39-a52a-4f99-d5a9-536753112e21"
      },
      "outputs": [
        {
          "output_type": "stream",
          "name": "stdout",
          "text": [
            "Archive:  OnlineNewsPopularity.zip\n",
            "   creating: OnlineNewsPopularity/\n",
            "  inflating: OnlineNewsPopularity/OnlineNewsPopularity.names  \n",
            "  inflating: OnlineNewsPopularity/OnlineNewsPopularity.csv  \n"
          ]
        }
      ],
      "source": [
        "!unzip OnlineNewsPopularity.zip"
      ]
    },
    {
      "cell_type": "markdown",
      "metadata": {
        "id": "5dHUD6mi2esW"
      },
      "source": [
        "# **Introduzione**\n",
        "\n",
        "A seguire l'implementazione dei seguenti modelli:\n",
        "- Alberi di Decisione per classificazione\n",
        "- Regressione Lineare per regressione\n",
        "  - senza regolarizzazione\n",
        "  - con regolarizzazione L1\n",
        "  - con regolarizzazione L2\n",
        "  - Elastic Net\n",
        "- Regressione Lineare per classificazione\n",
        "- Regressione Logistica per classificazione\n",
        "- KNN per regressione\n",
        "- KNN per classificazione\n",
        "- Reti Neurali per regressione\n",
        "- Reti Neurali per classificazione\n",
        "\n",
        "Con una descrizione dell'implementazione e le loro prestazioni. Alla fine è presente un confronto prestazionale tra i modelli.\n",
        "\n",
        "\n",
        "\n",
        "\n"
      ]
    },
    {
      "cell_type": "markdown",
      "metadata": {
        "id": "fTL1_sO3xQlK"
      },
      "source": [
        "# Primo Modello: Alberi Decisionali\n",
        "Ho implementato un modello DecisionTree per il task di classificazione. \n",
        "\n",
        "## Data preprocessing\n",
        "- ho rimosso i primi due attributi dal dataframe, in quanto non sono predittivi. Ho droppato anche l'ultimo attributo, in quanto è il nostro target, e l'ho trasformato nella y rendendolo binario\n",
        "- ho splittato il dataset in train set, test set e validation set per fare hypertuning sull'iperparametro altezza. \n",
        "- ho **discretizzato** gli attributi per calcolare l'information gain. Ho provato i seguenti approcci:\n",
        "<ol type=\"a\">\n",
        "  <li>discretizzazione con media: hypertuning altezza 5, accuracy 0.6370286290831126</li>\n",
        "  <li>discretizzazione con mediana: hypertuning altezza 7, accuracy 0.6472442931012738</li>\n",
        "</ol>\n",
        "\n",
        "## Hypertuning\n",
        "Ho calcolato la migliore altezza in base all'accuracy utilizzando KFold di Sklearn. KFold di Sklearn si occupa dello splitting sul validation set.\n",
        "\n",
        "## Splitting dei nodi interni:\n",
        "Per costruire l'albero, bisogna trovare per ogni nodo interno qual è il miglior attributo per splittare nei due nodi figli. Il miglior attributo è quello che massimizza l'information gain. Poiché l'information gain misura l'incremento di informazione quando i samples di un nodo vengono suddivisi nei due nodi figli, l'attributo migliore è quello che meglio divide i dati nel nodo corrente. Come già detto utilizziamo media o mediana per discretizzare, e l'entropia per il calcolo dell'information gain.\n",
        "\n",
        "<br>\n",
        "<hr>\n",
        "<br>\n",
        "\n",
        "\n",
        "I commenti nel codice spiegano le istruzioni che vengono eseguite. Le performance sono riportate dopo il codice.\n",
        "\n"
      ]
    },
    {
      "cell_type": "code",
      "execution_count": null,
      "metadata": {
        "colab": {
          "base_uri": "https://localhost:8080/"
        },
        "id": "aMPI2__mxRHf",
        "outputId": "6da55306-a6c1-4880-947d-8223d0b84d4d"
      },
      "outputs": [
        {
          "output_type": "stream",
          "name": "stdout",
          "text": [
            "hypertuning altezza:\n",
            "\t per altezza: 1 l'accuracy media è: 0.5318618950023648\n",
            "\t per altezza: 2 l'accuracy media è: 0.5810184455305061\n",
            "\t per altezza: 3 l'accuracy media è: 0.6081349519154975\n",
            "\t per altezza: 4 l'accuracy media è: 0.6276209995270376\n",
            "\t per altezza: 5 l'accuracy media è: 0.6398549582216616\n",
            "\t per altezza: 6 l'accuracy media è: 0.6380892322244994\n",
            "best_altezza: 5 \n",
            "\n"
          ]
        }
      ],
      "source": [
        "import numpy as np\n",
        "from collections import Counter\n",
        "import pandas as pd\n",
        "from sklearn.model_selection import train_test_split\n",
        "\n",
        "import matplotlib.pyplot as plt \n",
        "from sklearn.metrics import confusion_matrix\n",
        "\n",
        "from sklearn.metrics import accuracy_score\n",
        "\n",
        "from sklearn.model_selection import KFold\n",
        "\n",
        "class Node:\n",
        "    def __init__(self, att=None, thr=None, left=None, right=None, value=None):\n",
        "        # ogni nodo mantiene\n",
        "        self.att = att  #l'informazione sull'attributo usato per lo split \n",
        "        self.thr = thr  # la soglia di splitting per l'attributo\n",
        "        self.left = left \n",
        "        self.right = right\n",
        "        self.value = value # label associata (solo se è foglia è != None)\n",
        "\n",
        "    def is_leaf_node(self):\n",
        "        return self.value is not None\n",
        "\n",
        "\n",
        "class DecisionTree:\n",
        "    def __init__(self, max_depth=None, discretizzazione = \"mean\"):\n",
        "        self.n_features = None\n",
        "        self.root = None\n",
        "        self.max_depth = max_depth\n",
        "        self.discretizzazione = discretizzazione \n",
        "\n",
        "\n",
        "    # calcoliamo qual è la label che occorre di più\n",
        "    def plurality_value(self, y):\n",
        "        diz = {}\n",
        "        for c in y:\n",
        "            if c not in diz:\n",
        "                diz[c] = 0\n",
        "            diz[c] += 1\n",
        "\n",
        "        max_count = 0\n",
        "        plurality_value = None\n",
        "\n",
        "        for c in diz:\n",
        "            if diz[c] > max_count:\n",
        "                max_count = diz[c]\n",
        "                plurality_value = c\n",
        "        return Node(value=plurality_value)\n",
        "\n",
        "    def learn_decision_tree(self, X, y):\n",
        "\n",
        "        self.n_features = X.shape[1]\n",
        "        self.root = self.grow(X, y, None, 0)\n",
        "\n",
        "    def grow(self, X, y, parent_y, depth):\n",
        "\n",
        "        n_samples, n_feats = X.shape\n",
        "        n_labels = len(np.unique(y))\n",
        "\n",
        "\n",
        "        # se il nodo è \"vuoto\" ritorniamo la label che occorre più spesso nel padre\n",
        "        if n_samples == 0:\n",
        "            return self.plurality_value(parent_y)\n",
        "\n",
        "\n",
        "        # se il nodo contiene una sola label allora siamo in una foglia \n",
        "        elif n_labels == 1:\n",
        "            nodo = Node(value=y.iloc[0])\n",
        "            return nodo\n",
        "\n",
        "        # se il numero di features è 0 non possiamo andare avanti\n",
        "        # ritorniamo il plurality_value delle y che sono rimaste\n",
        "        elif n_feats == 0:\n",
        "            return self.plurality_value(y)\n",
        "\n",
        "        # se siamo arrivati alla profondità massima concessa ci fermiamo \n",
        "        if self.max_depth != None and depth >= self.max_depth:\n",
        "            \n",
        "            return self.plurality_value(parent_y)\n",
        "\n",
        "        \n",
        "        best_feature, best_thresh = self.importance(X, y, n_feats)\n",
        "\n",
        "        # abbiamo ottenuto il best split, ora applichiamo grow() ricorsivamente sui due figli\n",
        "        left_idxs, right_idxs = self._split(X.iloc[:, best_feature], best_thresh)\n",
        "        left = self.grow(X.iloc[left_idxs, :], y.iloc[left_idxs], y, depth + 1)\n",
        "        right = self.grow(X.iloc[right_idxs, :], y.iloc[right_idxs], y, depth + 1)\n",
        "\n",
        "        return Node(best_feature, best_thresh, left, right)\n",
        "\n",
        "    def importance(self, X, y, feat_idxs):\n",
        "\n",
        "        best_gain = -1\n",
        "        split_idx, split_threshold = None, None\n",
        "\n",
        "\n",
        "        # Adesso calcolo l'information gain. Si tratta di una misura dell'incremento di informazione \n",
        "        # quando i samples di un nodo vengono suddivisi nei due nodi figli. Vogliamo massimizzarlo \n",
        "        # per ottenere una suddivisione dei dati il più informativa possibile.\n",
        "        # Per massimizzarlo andiamo a trovare qual è l'attributo con information gain più alto,\n",
        "        # cioè l'attributo che meglio divide i dati correnti\n",
        "\n",
        "        # ho inserito la possibilità di usare sia la mediana che la media come metodi \n",
        "        # di discretizzazione\n",
        "        for feat_idx in range(feat_idxs):\n",
        "\n",
        "            X_column = X.iloc[:, feat_idx]\n",
        "            \n",
        "            \n",
        "            #discretizzazione con mediana\n",
        "            \n",
        "            if (self.discretizzazione == \"median\"):\n",
        "              threshold = np.median(X_column)\n",
        "\n",
        "            #discretizzazione con media\n",
        "            if (self.discretizzazione == \"mean\"): \n",
        "              threshold = np.mean(X_column)\n",
        "            \n",
        "\n",
        "            gain = self._information_gain(y, X_column, threshold)\n",
        "\n",
        "            if gain > best_gain:\n",
        "                best_gain = gain\n",
        "                split_idx = feat_idx\n",
        "                split_threshold = threshold\n",
        "\n",
        "        return split_idx, split_threshold\n",
        "\n",
        "    def _information_gain(self, y, X_column, threshold):\n",
        "\n",
        "        parent_entropy = self._entropy(y)\n",
        "\n",
        "        left_idxs, right_idxs = self._split(X_column, threshold)\n",
        "\n",
        "        # se o il figlio destro o il figlio sinistro non hanno samples l'information gain è 0 in quanto\n",
        "        # l'entropia del padre è uguale a quella del figlio non vuoto\n",
        "        if len(left_idxs) == 0 or len(right_idxs) == 0:\n",
        "            return 0\n",
        "\n",
        "        n = len(y)\n",
        "        n_l, n_r = len(left_idxs), len(right_idxs)\n",
        "\n",
        "        # calcoliamo l'entropia dei due figli\n",
        "        e_l, e_r = self._entropy(y.iloc[left_idxs]), self._entropy(y.iloc[right_idxs])\n",
        "        child_entropy = (n_l / n) * e_l + (n_r / n) * e_r\n",
        "\n",
        "        # l'information_gain è definito come la differenza tra l'entropia del padre e dei figli\n",
        "        information_gain = parent_entropy - child_entropy\n",
        "\n",
        "        return information_gain\n",
        "\n",
        "    def _split(self, X_column, split_thresh):\n",
        "\n",
        "        # left_idxs conterrà gli indici dei sample il cui valore dell'attributo di X_column \n",
        "        # è minore della soglia. Il contrario per right_idxs.\n",
        "\n",
        "        left_idxs = np.where(X_column <= split_thresh)[0]\n",
        "        right_idxs = np.where(X_column > split_thresh)[0]\n",
        "        return left_idxs, right_idxs\n",
        "\n",
        "    def _entropy(self, y):\n",
        "        p_x = np.bincount(y) / len(y)  \n",
        "        return -np.sum([p * np.log(p) for p in p_x if p > 0])\n",
        "\n",
        "    def predict(self, X):\n",
        "\n",
        "        predictions = []\n",
        "        \n",
        "        # per ogni riga percorriamo l'albero e troviamo in questo modo\n",
        "        # qual è la label associata (node.value della foglia in cui arriviamo)\n",
        "        for index, row in X.iterrows():\n",
        "            predictions.append(self._traverse_tree(row, self.root))\n",
        "        return np.array(predictions)\n",
        "\n",
        "    def _traverse_tree(self, x, node, depth=0):\n",
        "      \n",
        "        if node.is_leaf_node():\n",
        "            return node.value\n",
        "\n",
        "        if x.iloc[node.att] <= node.thr:\n",
        "            return self._traverse_tree(x, node.left, depth + 1)\n",
        "        return self._traverse_tree(x, node.right, depth + 1)\n",
        "\n",
        "\n",
        "# effettuiamo K fold cross validation per trovare il valore \n",
        "# migliore dell'altezza. \n",
        "def KFold_cross_validation(X, y, max_depth=None):\n",
        "\n",
        "    kf = KFold(n_splits=5)\n",
        "\n",
        "    accuracies = []\n",
        "\n",
        "    for train_idxs, test_idxs in kf.split(X):\n",
        "        X_train, X_test = X.iloc[train_idxs], X.iloc[test_idxs]\n",
        "        y_train, y_test = y.iloc[train_idxs], y.iloc[test_idxs]\n",
        "\n",
        "        clf = DecisionTree(max_depth)\n",
        "        clf.learn_decision_tree(X_train, y_train)\n",
        "\n",
        "        predictions = clf.predict(X_test)\n",
        "        acc = accuracy_score(y_test, predictions)\n",
        "        accuracies.append(acc)\n",
        "\n",
        "    mean_acc = np.mean(accuracies)\n",
        "    print(\"\\t per altezza:\", max_depth, \"l'accuracy media è:\", mean_acc)\n",
        "    return mean_acc\n",
        "\n",
        "\n",
        "def clean_and_split_dataset(df):\n",
        "\n",
        "    df = df.rename(columns=lambda x: x.strip())\n",
        "    df = df.iloc[:, 2:]\n",
        "\n",
        "    X = df.drop(\"shares\", axis=1)\n",
        "\n",
        "    y = df[\"shares\"].apply(lambda x: 1 if x >= 1400 else 0)\n",
        "\n",
        "    return train_test_split(X, y, test_size=0.2, random_state=1938214)\n",
        "\n",
        "\n",
        "# hypertuning su l'altezza\n",
        "def model_selection(X, y):\n",
        "        \n",
        "    best_accuracy = -1\n",
        "    altezza = 0\n",
        "\n",
        "    while True:\n",
        "\n",
        "      altezza += 1\n",
        "\n",
        "      accuracy = KFold_cross_validation(X_train, y_train, max_depth=altezza)\n",
        "\n",
        "      if (accuracy < best_accuracy):\n",
        "        break\n",
        "\n",
        "      best_accuracy = accuracy\n",
        "      best_altezza = altezza\n",
        "    \n",
        "    return best_altezza\n",
        "\n",
        "\n",
        "df = pd.read_csv(\"OnlineNewsPopularity/OnlineNewsPopularity.csv\")\n",
        "\n",
        "X_train, X_test, y_train, y_test = clean_and_split_dataset(df)\n",
        "\n",
        "\n",
        "print(\"hypertuning altezza:\",)\n",
        "\n",
        "best_altezza = model_selection(X_train, y_train)\n",
        "\n",
        "print(\"best_altezza:\", best_altezza, \"\\n\")\n",
        "\n",
        "clf = DecisionTree(max_depth=best_altezza, discretizzazione = \"mean\")\n",
        "clf.learn_decision_tree(X_train, y_train)\n",
        "predictions = clf.predict(X_test)"
      ]
    },
    {
      "cell_type": "markdown",
      "metadata": {
        "id": "MxEVS5vH-ZD5"
      },
      "source": [
        "## Performance Alberi di Decisione"
      ]
    },
    {
      "cell_type": "markdown",
      "metadata": {
        "id": "9stbgNJg6ZXE"
      },
      "source": [
        "**Accuracy**: \n"
      ]
    },
    {
      "cell_type": "code",
      "execution_count": null,
      "metadata": {
        "colab": {
          "base_uri": "https://localhost:8080/"
        },
        "id": "JgIVmHy7_kna",
        "outputId": "56056aa0-67fc-4c05-a3d7-54fe691282e5"
      },
      "outputs": [
        {
          "output_type": "stream",
          "name": "stdout",
          "text": [
            "accuracy del modello sul test: 0.6370286290831126\n"
          ]
        }
      ],
      "source": [
        "acc = accuracy_score(y_test, predictions)\n",
        "print(\"accuracy del modello sul test:\", acc)"
      ]
    },
    {
      "cell_type": "markdown",
      "metadata": {
        "id": "0qZmMmNz_q4i"
      },
      "source": [
        "**Confusion Matrix**: considerando 0 la classe positiva e 1 la classe negativa, abbiamo\n",
        "- In alto a sinistra i True Positive (TP): samples per cui il modello ha previsto correttamente la classe positiva \n",
        "- In alto a destra i False Positive (FP): samples per cui il modello ha erroneamente previsto la classe positiva\n",
        "- In basso a sinistra i False Negative (FN): samples per cui il modello ha erroneamente previso la classe negativa\n",
        "- In basso a destra i True Negative (TN): samples per cui il modello ha correttamente previsto la classe negativa\n"
      ]
    },
    {
      "cell_type": "code",
      "execution_count": null,
      "metadata": {
        "colab": {
          "base_uri": "https://localhost:8080/",
          "height": 454
        },
        "id": "pvZtljq8_meY",
        "outputId": "a1670917-b36a-4d63-aa30-1b4c8bbeed3d"
      },
      "outputs": [
        {
          "output_type": "display_data",
          "data": {
            "text/plain": [
              "<Figure size 640x480 with 1 Axes>"
            ],
            "image/png": "[encoded data removed]"
          },
          "metadata": {}
        }
      ],
      "source": [
        "def plot_cm(data):\n",
        "  fig, ax = plt.subplots()\n",
        "  ax.matshow(data, cmap='Reds')\n",
        "  for (i, j), z in np.ndenumerate(data):\n",
        "    ax.text(j, i, '{0:0.1f}'.format(z), ha='center', va='center')\n",
        "  plt.xlabel(\"y_pred\")\n",
        "  plt.ylabel(\"y_true\")\n",
        "  plt.show()\n",
        "\n",
        "cm = confusion_matrix(y_test, predictions)\n",
        "plot_cm(cm)"
      ]
    },
    {
      "cell_type": "markdown",
      "metadata": {
        "id": "kOlvCs-zdXHt"
      },
      "source": [
        "**Precision**: percentuale di istanze classificate positive dal modello che lo sono veramente. Ci dice qunato possiamo fidarci di una predizione positiva del modello.\n",
        "\n",
        "$Precision = \\frac{TP}{TP + FP}$\n",
        "\n",
        "**Recall**: percentuale di riconosciuti positivi tra tutti i casi di positivi.\n",
        "\n",
        "$Recall = \\frac{TP}{TP + FN}$\n",
        "\n",
        "**F1 Score**: media armonica di Precision e Recall\n",
        "\n",
        "$F1 = \\frac{2*Precision*Recall}{Precision + Recall}$"
      ]
    },
    {
      "cell_type": "code",
      "execution_count": null,
      "metadata": {
        "colab": {
          "base_uri": "https://localhost:8080/"
        },
        "id": "0ArpKrC5dbby",
        "outputId": "d252307b-c9cb-44f8-b5ba-2c25c8046c54"
      },
      "outputs": [
        {
          "output_type": "stream",
          "name": "stdout",
          "text": [
            "Precision: 0.6360305050906736\n",
            "Recall: 0.6370286290831126\n",
            "F1 Score: 0.636256526225491\n"
          ]
        }
      ],
      "source": [
        "from sklearn.metrics import precision_recall_fscore_support\n",
        "\n",
        "\n",
        "precision, recall, f1_score, _ = precision_recall_fscore_support(y_test, predictions, average='weighted')\n",
        "\n",
        "print('Precision:', precision)\n",
        "print('Recall:', recall)\n",
        "print('F1 Score:', f1_score)"
      ]
    },
    {
      "cell_type": "markdown",
      "metadata": {
        "id": "xMW646ctjBBU"
      },
      "source": [
        "**ROC Curve**: rappresenta la capacità del modello di distinguere tra le due classi di interesse. Sull'asse y c'è il Recall, mentre sull'asse x il False Positive Rate = $\\frac{FP}{FP + TN}$"
      ]
    },
    {
      "cell_type": "code",
      "execution_count": null,
      "metadata": {
        "colab": {
          "base_uri": "https://localhost:8080/",
          "height": 472
        },
        "id": "Qz5b8F3EjAlJ",
        "outputId": "8fefc49a-dfa1-4729-8a73-c838fd7fd47a"
      },
      "outputs": [
        {
          "output_type": "display_data",
          "data": {
            "text/plain": [
              "<Figure size 640x480 with 1 Axes>"
            ],
            "image/png": "[encoded data removed]"
          },
          "metadata": {}
        }
      ],
      "source": [
        "from sklearn.metrics import roc_curve, auc\n",
        "\n",
        "fpr, tpr, thresholds = roc_curve(y_test, predictions)\n",
        "\n",
        "roc_auc = auc(fpr, tpr)\n",
        "\n",
        "plt.plot(fpr, tpr, color='darkorange', lw=2, label='ROC curve (area = %0.2f)' % roc_auc)\n",
        "plt.plot([0, 1], [0, 1], color='navy', lw=2, linestyle='--')\n",
        "plt.xlim([0.0, 1.0])\n",
        "plt.ylim([0.0, 1.05])\n",
        "plt.xlabel('False Positive Rate')\n",
        "plt.ylabel('Recall (True Positive Rate)')\n",
        "plt.title('Receiver Operating Characteristic (ROC) Curve')\n",
        "plt.legend(loc=\"lower right\")\n",
        "plt.show()"
      ]
    },
    {
      "cell_type": "markdown",
      "metadata": {
        "id": "77gk3-3tqM_A"
      },
      "source": [
        "La linea tratteggiata indica i punti in cui TPR = FPR, cioè la percentuale di classificati correttamente positivi è uguale alla percentuale di classificati incorrettamente negativi. Quando la ROC curve è uguale alla linea tratteggiata e quindi l'**AUC** (Area Under the Curve) è del 50%, il modello performa come un modello che prevede randomicamente. Più buone sono le performance di un modello più la sua curva ROC è vicina all'angolo in alto a sinistra e quindi più è grande l'**AUC**."
      ]
    },
    {
      "cell_type": "markdown",
      "metadata": {
        "id": "3Gv7JfVq345G"
      },
      "source": [
        "## Confronto con Sklearn\n",
        "\n",
        "Le prestazioni del modello di sklearn sono comparabili con quelle del mio modello"
      ]
    },
    {
      "cell_type": "code",
      "execution_count": null,
      "metadata": {
        "colab": {
          "base_uri": "https://localhost:8080/",
          "height": 1000
        },
        "id": "OvnbQXSQ4BGl",
        "outputId": "2172f1b2-e5d7-4122-9b32-a868e23a7813"
      },
      "outputs": [
        {
          "output_type": "stream",
          "name": "stdout",
          "text": [
            "accuracy del modello sul test: 0.64737041241014\n",
            "\n",
            "\n"
          ]
        },
        {
          "output_type": "display_data",
          "data": {
            "text/plain": [
              "<Figure size 640x480 with 1 Axes>"
            ],
            "image/png": "[encoded data removed]"
          },
          "metadata": {}
        },
        {
          "output_type": "stream",
          "name": "stdout",
          "text": [
            "\n",
            "\n",
            "Precision: 0.64737041241014\n",
            "Recall: 0.64737041241014\n",
            "F1 Score: 0.64737041241014\n",
            "\n",
            "\n"
          ]
        },
        {
          "output_type": "display_data",
          "data": {
            "text/plain": [
              "<Figure size 640x480 with 1 Axes>"
            ],
            "image/png": "[encoded data removed]"
          },
          "metadata": {}
        }
      ],
      "source": [
        "from sklearn import tree\n",
        "\n",
        "\n",
        "df = pd.read_csv(\"OnlineNewsPopularity/OnlineNewsPopularity.csv\")\n",
        "\n",
        "\n",
        "def KFold_cross_validation(X, y, max_depth=None):\n",
        "\n",
        "    kf = KFold(n_splits=5)\n",
        "\n",
        "    accuracies = []\n",
        "\n",
        "    for train_idxs, test_idxs in kf.split(X):\n",
        "        X_train, X_test = X.iloc[train_idxs], X.iloc[test_idxs]\n",
        "        y_train, y_test = y.iloc[train_idxs], y.iloc[test_idxs]\n",
        "\n",
        "        clf = tree.DecisionTreeClassifier(max_depth = max_depth)\n",
        "        clf.fit(X_train, y_train)\n",
        "\n",
        "        predictions = clf.predict(X_test)\n",
        "        acc = accuracy_score(y_test, predictions)\n",
        "        accuracies.append(acc)\n",
        "\n",
        "    mean_acc = np.mean(accuracies)\n",
        "    #print(\"per altezza:\", max_depth, \"l'accuracy media è:\", mean_acc)\n",
        "    return mean_acc\n",
        "\n",
        "\n",
        "def clean_and_split_dataset(df):\n",
        "\n",
        "    df = df.rename(columns=lambda x: x.strip())\n",
        "    df = df.iloc[:, 2:]\n",
        "\n",
        "    X = df.drop(\"shares\", axis=1)\n",
        "\n",
        "    y = df[\"shares\"].apply(lambda x: 1 if x >= 1400 else 0)\n",
        "\n",
        "    return train_test_split(X, y, test_size=0.2, random_state=1938214)\n",
        "\n",
        "\n",
        "# hypertuning su l'altezza\n",
        "def model_selection(X, y):\n",
        "        \n",
        "    best_accuracy = -1\n",
        "    altezza = 0\n",
        "\n",
        "    while True:\n",
        "\n",
        "      altezza += 1\n",
        "\n",
        "      accuracy = KFold_cross_validation(X_train, y_train, max_depth=altezza)\n",
        "\n",
        "      if (accuracy < best_accuracy):\n",
        "        break\n",
        "\n",
        "      best_accuracy = accuracy\n",
        "      best_altezza = altezza\n",
        "    \n",
        "    return best_altezza\n",
        "\n",
        "\n",
        "\n",
        "\n",
        "X_train, X_test, y_train, y_test = clean_and_split_dataset(df)\n",
        "\n",
        "best_altezza = model_selection(X_train, y_train)\n",
        "\n",
        "\n",
        "clf = tree.DecisionTreeClassifier(max_depth=best_altezza)\n",
        "clf.fit(X_train, y_train)\n",
        "\n",
        "predictions = clf.predict(X_test)\n",
        "acc = accuracy_score(y_test, predictions)\n",
        "\n",
        "\n",
        "print(\"accuracy del modello sul test:\", acc)\n",
        "\n",
        "print(\"\\n\")\n",
        "\n",
        "def plot_cm(data):\n",
        "  fig, ax = plt.subplots()\n",
        "  ax.matshow(data, cmap='Reds')\n",
        "  for (i, j), z in np.ndenumerate(data):\n",
        "    ax.text(j, i, '{0:0.1f}'.format(z), ha='center', va='center')\n",
        "  plt.xlabel(\"y_pred\")\n",
        "  plt.ylabel(\"y_true\")\n",
        "  plt.show()\n",
        "\n",
        "cm = confusion_matrix(y_test, predictions)\n",
        "plot_cm(cm)\n",
        "\n",
        "print(\"\\n\")\n",
        "\n",
        "precision, recall, f1_score, _ = precision_recall_fscore_support(y_test, predictions, average='weighted')\n",
        "\n",
        "print('Precision:', precision)\n",
        "print('Recall:', recall)\n",
        "print('F1 Score:', f1_score)\n",
        "\n",
        "fpr, tpr, thresholds = roc_curve(y_test, predictions)\n",
        "\n",
        "print(\"\\n\")\n",
        "\n",
        "roc_auc = auc(fpr, tpr)\n",
        "\n",
        "plt.plot(fpr, tpr, color='darkorange', lw=2, label='ROC curve (area = %0.2f)' % roc_auc)\n",
        "plt.plot([0, 1], [0, 1], color='navy', lw=2, linestyle='--')\n",
        "plt.xlim([0.0, 1.0])\n",
        "plt.ylim([0.0, 1.05])\n",
        "plt.xlabel('False Positive Rate')\n",
        "plt.ylabel('Recall (True Positive Rate)')\n",
        "plt.title('Receiver Operating Characteristic (ROC) Curve')\n",
        "plt.legend(loc=\"lower right\")\n",
        "plt.show()"
      ]
    },
    {
      "cell_type": "markdown",
      "metadata": {
        "id": "zHdDTKxD2V7B"
      },
      "source": [
        "# Secondo Modello: Regressione Lineare\n",
        "Ho implementato la regressione lineare per il task di regressione senza regolarizzazione e con regolarizzazioni L1, L2 ed Elastic Net. Ho inoltre implementato la regressione lineare per task di classificazione.\n",
        "\n",
        "## Data preprocessing\n",
        "- Ho pulito il dataset come per il modello precedente\n",
        "- Ho utilizzato StandardScaler() di sklearn per normalizzare i dati ed evitare overflow\n",
        "- ho aggiunto una colonna di tutti 1 ad X, così da poter inglobare il bias in W. Alternativamente, avrei dovuto scrivere  y_pred = np.dot(X, self.weights) + bias \n",
        "\n",
        "\n",
        "## Gradient Descent\n",
        "Ho utilizzato l'algoritmo di Gradient Descent per trovare i migliori parametri W che minimizzano l'errore medio. L'algoritmo calcola iterativamente il gradiente della funzione di costo rispetto ai parametri W e aggiornando questi parametri utilizzando un learning rate che  controlla la dimensione dei passi di aggiornamento. Ho deciso di impostare un numero massimo di epoch dopo cui la discesa termina. \n",
        "\n",
        "\n",
        "## Hypertuning\n",
        "Poichè i tempi di esecuzione superavano i 20 minuti, ho deciso di non inserire hypertuning nei modelli di linear regression. Comunque, sarebbe stato possibile fare K Fold cross validation per trovare i migliori valori di learning rate, n_iter (epoch) e tasso di regolarizzazione con le seguenti funzioni:\n",
        "\n",
        "\n",
        "```python\n",
        "def KFold_cross_validation(X, y, alpha, n_iter, l):\n",
        "    kf = KFold(n_splits=5)\n",
        "    rmses = []\n",
        "    for (train_idxs, test_idxs) in kf.split(X):\n",
        "        (X_train, X_test) = (X[train_idxs], X[test_idxs])\n",
        "        (y_train, y_test) = (y.iloc[train_idxs], y.iloc[test_idxs])\n",
        "        clf = MyLasso(alpha=alpha, n_iters=n_iter, l=l)\n",
        "        clf.fit(X_train, y_train)\n",
        "        predictions = clf.predict(X_test)\n",
        "        rmse = math.sqrt(mean_squared_error(y_test, predictions))\n",
        "        rmses.append(rmse)\n",
        "    mean_rmse = np.mean(rmses)\n",
        "    return mean_rmse\n",
        "\n",
        "def model_selection(X, y, iperparametri):\n",
        "    best_rmse = 100000\n",
        "    for a in iperparametri['alpha']:\n",
        "        for ni in iperparametri['n_iter']:\n",
        "            for l in iperparametri['lambda']:\n",
        "                rmse = KFold_cross_validation(X_train, y_train, alpha=a, n_iter=ni, l=l)\n",
        "                if rmse > best_rmse:\n",
        "                    break\n",
        "                best_rmse = rmse\n",
        "                best_alpha = a\n",
        "                best_n_iter = ni\n",
        "                best_l = l\n",
        "                print ('\\t best_rmse:', rmse, ' best_alpha:', a, ' best_n_iter:', ni, ' lambda:', l)\n",
        "    return (best_alpha, best_n_iter, best_l, best_rmse)\n",
        "\n",
        "\n",
        "    # prima di trainare il modello sul training set\n",
        "    iperparametri = {'alpha': [0.001, 0.01, 0.1, 1], 'n_iter': [10, 100, 1000, 10000],'lambda': [0.1, 1, 5, 10]}\n",
        "    best_alpha, best_n_iter, best_l, best_rmse = model_selection(X_train, y_train, iperparametri)\n",
        "    print ('best_alpha: ', best_alpha, 'best_n_iter: ', best_n_iter, 'best_l:' best_l, 'con rmse:', best_rmse)\n",
        "```\n",
        "\n",
        "<br>\n",
        "<hr>\n",
        "<br>\n",
        "\n",
        "\n",
        "I commenti nel codice spiegano le istruzioni che vengono eseguite. Le performance sono riportate dopo il codice.\n",
        "\n",
        "\n"
      ]
    },
    {
      "cell_type": "markdown",
      "metadata": {
        "id": "rFFSzICRHoV4"
      },
      "source": [
        "## Linear Regression senza regolarizzazione"
      ]
    },
    {
      "cell_type": "code",
      "execution_count": null,
      "metadata": {
        "id": "nboV0zLtGK1r"
      },
      "outputs": [],
      "source": [
        "import numpy as np\n",
        "import pandas as pd\n",
        "import math\n",
        "from sklearn.metrics import mean_squared_error\n",
        "from sklearn.model_selection import train_test_split\n",
        "from sklearn import datasets\n",
        "import matplotlib.pyplot as plt\n",
        "from sklearn.preprocessing import StandardScaler\n",
        "from sklearn.model_selection import KFold\n",
        "\n",
        "\n",
        "class MyLinearRegression:\n",
        "\n",
        "    def __init__(self, alpha=0.001, n_iters=10000):\n",
        "        self.alpha = alpha\n",
        "        self.n_iters = n_iters\n",
        "        self.weights = None  \n",
        "\n",
        "\n",
        "    def fit(self, X, y):\n",
        "\n",
        "        n_samples, n_features = X.shape  \n",
        "\n",
        "        # inizializziamo i pesi a 0\n",
        "        self.weights = np.zeros(n_features)\n",
        "\n",
        "\n",
        "        # facciamo gradient descent       \n",
        "        for i in range(self.n_iters):\n",
        "       \n",
        "\n",
        "          # calcoliamo la previsione del modello\n",
        "          y_pred = np.dot(X, self.weights)\n",
        "\n",
        "\n",
        "          # calcoliamo il gradiente dell'errore medio \n",
        "          # rispetto alla previsione appena fatta\n",
        "          grad = (np.dot(X.transpose(), (y - y_pred))) / n_samples    \n",
        "       \n",
        "          # aggiornamento dei pesi \n",
        "          self.weights = self.weights + self.alpha * grad\n",
        "\n",
        "\n",
        "    def predict(self, X):\n",
        "        y_pred = np.dot(X, self.weights)\n",
        "        return y_pred\n",
        "\n",
        "\n",
        "\n",
        "df = pd.read_csv(\"OnlineNewsPopularity/OnlineNewsPopularity.csv\")\n",
        "df = df.rename(columns=lambda x: x.strip())\n",
        "df = df.iloc[:, 2:]\n",
        "\n",
        "X = df.drop(\"shares\", axis=1) \n",
        "y = df[\"shares\"] \n",
        "\n",
        "X_train, X_test, y_train, y_test = train_test_split(X, y, test_size=0.2, random_state=1938214)\n",
        "\n",
        "\n",
        "# normalizzazione\n",
        "scaler = StandardScaler()\n",
        "scaler.fit(X_train)\n",
        "X_train = scaler.transform(X_train)\n",
        "X_test = scaler.transform(X_test)\n",
        "\n",
        "# aggiungo la colonna di 1\n",
        "X_train = np.hstack([np.ones((X_train.shape[0], 1)), X_train]) \n",
        "X_test = np.hstack([np.ones((X_test.shape[0], 1)), X_test])  \n",
        "\n",
        "reg = MyLinearRegression()\n",
        "reg.fit(X_train,y_train)\n",
        "\n",
        "y_pred = reg.predict(X_test)"
      ]
    },
    {
      "cell_type": "markdown",
      "metadata": {
        "id": "pfl4i-FxNy3X"
      },
      "source": [
        "### Performance Linear Regression senza regolarizzazione"
      ]
    },
    {
      "cell_type": "markdown",
      "metadata": {
        "id": "c5Bdw6mOOBlY"
      },
      "source": [
        "**RMSE**:"
      ]
    },
    {
      "cell_type": "code",
      "execution_count": null,
      "metadata": {
        "colab": {
          "base_uri": "https://localhost:8080/"
        },
        "id": "wEtyDmifGKyc",
        "outputId": "53c0ae54-17d7-4672-8a28-2d0ddc6e8926"
      },
      "outputs": [
        {
          "output_type": "stream",
          "name": "stdout",
          "text": [
            "RMSE: 11056.947580534314\n"
          ]
        }
      ],
      "source": [
        "rmse = math.sqrt(mean_squared_error(y_test, y_pred))\n",
        "print(\"RMSE:\", rmse)"
      ]
    },
    {
      "cell_type": "markdown",
      "metadata": {
        "id": "URoyTl1OUGqU"
      },
      "source": [
        "**MAE**:"
      ]
    },
    {
      "cell_type": "code",
      "execution_count": null,
      "metadata": {
        "colab": {
          "base_uri": "https://localhost:8080/"
        },
        "id": "w6czAjIOUKxy",
        "outputId": "edee6354-36e1-4b4f-c014-23521949be2a"
      },
      "outputs": [
        {
          "output_type": "stream",
          "name": "stdout",
          "text": [
            "MAE: 3002.706806499301\n"
          ]
        }
      ],
      "source": [
        "from sklearn.metrics import mean_absolute_error\n",
        "mae = mean_absolute_error(y_test, y_pred)\n",
        "print(\"MAE:\", mae)"
      ]
    },
    {
      "cell_type": "markdown",
      "metadata": {
        "id": "JloMXky1OTyQ"
      },
      "source": [
        "### Confronto con sklearn"
      ]
    },
    {
      "cell_type": "code",
      "execution_count": null,
      "metadata": {
        "colab": {
          "base_uri": "https://localhost:8080/"
        },
        "id": "_v5JIABIGJ_g",
        "outputId": "5770802a-9fb0-4aec-b7bd-2821abac8e44"
      },
      "outputs": [
        {
          "output_type": "stream",
          "name": "stdout",
          "text": [
            "RMSE: 11065.469225210554 \n",
            "\n",
            "MAE: 3016.4366805860645\n"
          ]
        }
      ],
      "source": [
        "import numpy as np\n",
        "import pandas as pd\n",
        "import math\n",
        "from sklearn.linear_model import LinearRegression\n",
        "from sklearn.metrics import mean_squared_error\n",
        "from sklearn.model_selection import train_test_split\n",
        "\n",
        "df = pd.read_csv(\"OnlineNewsPopularity/OnlineNewsPopularity.csv\")\n",
        "df = df.rename(columns=lambda x: x.strip())\n",
        "df = df.iloc[:, 2:]\n",
        "\n",
        "X = df.drop(\"shares\", axis=1)  \n",
        "\n",
        "y = df[\"shares\"] \n",
        "\n",
        "X_train, X_test, y_train, y_test = train_test_split(X, y, test_size=0.2, random_state=1938214)\n",
        "\n",
        "model = LinearRegression()\n",
        "\n",
        "model.fit(X_train, y_train)\n",
        "\n",
        "y_pred = model.predict(X_test)\n",
        "\n",
        "rmse = math.sqrt(mean_squared_error(y_test, y_pred))\n",
        "print(\"RMSE:\", rmse, \"\\n\")\n",
        "\n",
        "mae = mean_absolute_error(y_test, y_pred)\n",
        "\n",
        "print(\"MAE:\", mae)"
      ]
    },
    {
      "cell_type": "markdown",
      "metadata": {
        "id": "4jIrwX_COy7-"
      },
      "source": [
        "## Linear Regression con regolarizzazione L1 (Lasso)\n",
        "\n",
        "\n",
        "Usiamo la formula:\n",
        "$ \\nabla = \\frac{X^T \\cdot (y_{pred} - y) +\\lambda_{1} sign(w)}{n_{samples}} $    \n",
        "\n",
        "#### **Perché usare la regolarizzazione L1?**\n",
        "        \n",
        "Per modelli di regressione lineare **multivariabile** come il nostro, è possibile che alcune dimensioni (alcuni dei 58 attributi) che in generale sono irrilevanti si rivelino per caso \"utili\" in un'istanza di training. Si tratta quindi di un caso di overfitting, che possiamo mitigare con la regolarizzazione L1. Questa regolarizzazione, infatti, produce un *modello sparso* che azzera i valori dei pesi in W associati ad attributi irrilevanti. In questo modo si vanno a selezionare le caratteristiche più importanti del modello, diminuendo la complessità e quindi fornendo un modello più semplice e più interpretabile da un umano."
      ]
    },
    {
      "cell_type": "code",
      "execution_count": null,
      "metadata": {
        "id": "ecblnjcBPN4U"
      },
      "outputs": [],
      "source": [
        "import numpy as np\n",
        "import pandas as pd\n",
        "import math\n",
        "from sklearn.metrics import mean_squared_error\n",
        "from sklearn.model_selection import train_test_split\n",
        "from sklearn import datasets\n",
        "from sklearn import linear_model\n",
        "from sklearn.preprocessing import StandardScaler\n",
        "\n",
        "\n",
        "# Cambiando soltanto la formula del gradiente rispetto al modello precedente, non commento le istruzioni eseguite \n",
        "\n",
        "class MyLasso:\n",
        "\n",
        "    def __init__(self, alpha=0.001, n_iters=10000, l=5):\n",
        "        self.alpha = alpha\n",
        "        self.n_iters = n_iters\n",
        "        self.weights = None  \n",
        "        self.l = l\n",
        "\n",
        "\n",
        "    def fit(self, X, y):\n",
        "\n",
        "        n_samples, n_features = X.shape  \n",
        "\n",
        "        self.weights = np.zeros(n_features)\n",
        "\n",
        "        for i in range(self.n_iters):\n",
        "       \n",
        "          y_pred = np.dot(X, self.weights)\n",
        "\n",
        "          grad = (np.dot(X.transpose(), (y_pred - y)) + (self.l)*np.sign(self.weights)) / n_samples    \n",
        "       \n",
        "          self.weights = self.weights - self.alpha * grad\n",
        "\n",
        "\n",
        "    def predict(self, X):\n",
        "        y_pred = np.dot(X, self.weights)\n",
        "        return y_pred\n",
        "\n",
        "\n",
        "df = pd.read_csv(\"OnlineNewsPopularity/OnlineNewsPopularity.csv\")\n",
        "df = df.rename(columns=lambda x: x.strip())\n",
        "df = df.iloc[:, 2:]\n",
        "\n",
        "X = df.drop(\"shares\", axis=1) \n",
        "y = df[\"shares\"] \n",
        "\n",
        "\n",
        "X_train, X_test, y_train, y_test = train_test_split(X, y, test_size=0.2, random_state=1938214)\n",
        "\n",
        "scaler = StandardScaler()\n",
        "scaler.fit(X_train)\n",
        "X_train = scaler.transform(X_train)\n",
        "X_test = scaler.transform(X_test)\n",
        "\n",
        "X_train = np.hstack([np.ones((X_train.shape[0], 1)), X_train]) \n",
        "X_test = np.hstack([np.ones((X_test.shape[0], 1)), X_test])\n",
        "\n",
        "\n",
        "reg = MyLasso()\n",
        "reg.fit(X_train,y_train)\n",
        "\n",
        "y_pred = reg.predict(X_test)"
      ]
    },
    {
      "cell_type": "markdown",
      "metadata": {
        "id": "9RO_Cn5qBIpU"
      },
      "source": [
        "### Performance per Lasso"
      ]
    },
    {
      "cell_type": "markdown",
      "metadata": {
        "id": "6Gq1GEohVvKt"
      },
      "source": [
        "**RMSE**:"
      ]
    },
    {
      "cell_type": "code",
      "execution_count": null,
      "metadata": {
        "colab": {
          "base_uri": "https://localhost:8080/"
        },
        "id": "HBGsxBJcBK5e",
        "outputId": "a5c47306-6497-4b68-a8f0-ce88fba6dbdb"
      },
      "outputs": [
        {
          "output_type": "stream",
          "name": "stdout",
          "text": [
            "RMSE: 11056.947572330879\n"
          ]
        }
      ],
      "source": [
        "rmse = math.sqrt(mean_squared_error(y_test, y_pred))\n",
        "print(\"RMSE:\", rmse)"
      ]
    },
    {
      "cell_type": "markdown",
      "metadata": {
        "id": "bgm1bm7-Vifd"
      },
      "source": [
        "**MAE**:"
      ]
    },
    {
      "cell_type": "code",
      "execution_count": null,
      "metadata": {
        "colab": {
          "base_uri": "https://localhost:8080/"
        },
        "id": "xgZybbpbVj-W",
        "outputId": "1aa55342-7c1b-4fe0-ce48-b8166216fdb7"
      },
      "outputs": [
        {
          "output_type": "stream",
          "name": "stdout",
          "text": [
            "MAE: 3002.7066447691373\n"
          ]
        }
      ],
      "source": [
        "mae = mean_absolute_error(y_test, y_pred)\n",
        "print(\"MAE:\", mae)"
      ]
    },
    {
      "cell_type": "markdown",
      "metadata": {
        "id": "qmAGDVopPOho"
      },
      "source": [
        "### Confronto con sklearn"
      ]
    },
    {
      "cell_type": "code",
      "execution_count": null,
      "metadata": {
        "colab": {
          "base_uri": "https://localhost:8080/"
        },
        "id": "8yruaOGKOzR8",
        "outputId": "ab45c76a-6977-45de-b1fa-642e2c6306c5"
      },
      "outputs": [
        {
          "output_type": "stream",
          "name": "stdout",
          "text": [
            "RMSE: 11067.504851640293 \n",
            "\n",
            "MAE: 3007.411477423413\n"
          ]
        }
      ],
      "source": [
        "import numpy as np\n",
        "import pandas as pd\n",
        "import math\n",
        "\n",
        "from sklearn import linear_model\n",
        "from sklearn.metrics import mean_squared_error\n",
        "from sklearn.model_selection import train_test_split\n",
        "\n",
        "df = pd.read_csv(\"OnlineNewsPopularity/OnlineNewsPopularity.csv\")\n",
        "df = df.rename(columns=lambda x: x.strip())\n",
        "df = df.iloc[:, 2:]\n",
        "\n",
        "X = df.drop(\"shares\", axis=1) \n",
        "\n",
        "y = df[\"shares\"] \n",
        "\n",
        "X_train, X_test, y_train, y_test = train_test_split(X, y, test_size=0.2, random_state=1938214)\n",
        "\n",
        "model = linear_model.Lasso(alpha = 5) \n",
        "\n",
        "model.fit(X_train, y_train)\n",
        "\n",
        "y_pred = model.predict(X_test)\n",
        "\n",
        "rmse = math.sqrt(mean_squared_error(y_test, y_pred))\n",
        "print(\"RMSE:\", rmse, \"\\n\")\n",
        "\n",
        "mae = mean_absolute_error(y_test, y_pred)\n",
        "print(\"MAE:\", mae)"
      ]
    },
    {
      "cell_type": "markdown",
      "metadata": {
        "id": "2zDo3WvZPUvC"
      },
      "source": [
        "## Linear Regression con regolarizzazione L2 (Ridge)\n",
        "\n",
        "\n",
        "Usiamo la formula:\n",
        "$ \\nabla = \\frac{X^T \\cdot (y_{pred} - y) + \\lambda_{2} w}{n_{samples}} $    \n",
        "\n",
        "#### **Perché usare la regolarizzazione L2?**\n",
        "Come la regolarizzazione L1, L2 cerca di evitare l'overfitting, ma non azzera i valori dei pesi associati a dimensioni irrilevanti, bensì ha l'obiettivo di rendere piccoli i parametri, cioè normalizzarli, disponendoli su un cerchio di raggio 1, così da non avere parametri molto più grandi di altri.\n"
      ]
    },
    {
      "cell_type": "code",
      "execution_count": null,
      "metadata": {
        "id": "9xvokHNhPg04"
      },
      "outputs": [],
      "source": [
        "import numpy as np\n",
        "import pandas as pd\n",
        "import math\n",
        "from sklearn.metrics import mean_squared_error\n",
        "from sklearn.model_selection import train_test_split\n",
        "from sklearn import datasets\n",
        "import matplotlib.pyplot as plt\n",
        "from sklearn.preprocessing import StandardScaler\n",
        "\n",
        "\n",
        "# Cambiando soltanto la formula del gradiente rispetto al modello precedente, non commento le istruzioni eseguite\n",
        "\n",
        "class MyRidge:\n",
        "\n",
        "    def __init__(self, alpha=0.001, n_iters=10000, l=0.5):\n",
        "        self.alpha = alpha\n",
        "        self.n_iters = n_iters\n",
        "        self.weights = None  \n",
        "        self.l = l\n",
        "\n",
        "\n",
        "    def fit(self, X, y):\n",
        "\n",
        "        n_samples, n_features = X.shape  \n",
        "\n",
        "        self.weights = np.zeros(n_features)\n",
        "\n",
        "        for i in range(self.n_iters):\n",
        "       \n",
        "          y_pred = np.dot(X, self.weights)\n",
        "\n",
        "          grad = (np.dot(X.transpose(), (y_pred - y)) + (self.l)*self.weights) / n_samples    \n",
        "       \n",
        "          self.weights = self.weights - self.alpha * grad\n",
        "\n",
        "\n",
        "    def predict(self, X):\n",
        "        X = np.hstack([np.ones((X.shape[0], 1)), X])\n",
        "        y_pred = np.dot(X, self.weights)\n",
        "        return y_pred\n",
        "\n",
        "\n",
        "\n",
        "\n",
        "df = pd.read_csv(\"OnlineNewsPopularity/OnlineNewsPopularity.csv\")\n",
        "df = df.rename(columns=lambda x: x.strip())\n",
        "df = df.iloc[:, 2:]\n",
        "\n",
        "X = df.drop(\"shares\", axis=1) \n",
        "y = df[\"shares\"] \n",
        "\n",
        "\n",
        "X_train, X_test, y_train, y_test = train_test_split(X, y, test_size=0.2, random_state=1938214)\n",
        "\n",
        "scaler = StandardScaler()\n",
        "scaler.fit(X_train)\n",
        "X_train = scaler.transform(X_train)\n",
        "X_test = scaler.transform(X_test)\n",
        "\n",
        "X_train = np.hstack([np.ones((X_train.shape[0], 1)), X_train]) \n",
        "\n",
        "reg = MyRidge()\n",
        "reg.fit(X_train,y_train)\n",
        "\n",
        "y_pred = reg.predict(X_test)"
      ]
    },
    {
      "cell_type": "markdown",
      "metadata": {
        "id": "fgb1JTRlBbsU"
      },
      "source": [
        "### Performance Ridge"
      ]
    },
    {
      "cell_type": "markdown",
      "metadata": {
        "id": "5DtlsRrsWElc"
      },
      "source": [
        "**RMSE**:"
      ]
    },
    {
      "cell_type": "code",
      "execution_count": null,
      "metadata": {
        "id": "eMlWwpOwBdjV",
        "colab": {
          "base_uri": "https://localhost:8080/"
        },
        "outputId": "d1af1877-69be-457a-981a-1ad5bde2b0bb"
      },
      "outputs": [
        {
          "output_type": "stream",
          "name": "stdout",
          "text": [
            "rmse: 11056.947080925454\n"
          ]
        }
      ],
      "source": [
        "rmse = math.sqrt(mean_squared_error(y_test, y_pred))\n",
        "print(\"rmse:\", rmse)"
      ]
    },
    {
      "cell_type": "markdown",
      "metadata": {
        "id": "r6F7Zmy-WGCw"
      },
      "source": [
        "**MAE**:"
      ]
    },
    {
      "cell_type": "code",
      "execution_count": null,
      "metadata": {
        "id": "uZQfuzokWG-q",
        "colab": {
          "base_uri": "https://localhost:8080/"
        },
        "outputId": "45d62e19-0156-4b4d-fcb6-de3d0c2c7ad1"
      },
      "outputs": [
        {
          "output_type": "stream",
          "name": "stdout",
          "text": [
            "MAE: 3002.676142419405\n"
          ]
        }
      ],
      "source": [
        "mae = mean_absolute_error(y_test, y_pred)\n",
        "print(\"MAE:\", mae)"
      ]
    },
    {
      "cell_type": "markdown",
      "metadata": {
        "id": "x_kDZCELPXCM"
      },
      "source": [
        "### Confronto con sklearn"
      ]
    },
    {
      "cell_type": "code",
      "execution_count": null,
      "metadata": {
        "id": "iOV4Z1r9PdB-",
        "colab": {
          "base_uri": "https://localhost:8080/"
        },
        "outputId": "c8b2c5b8-bf1f-446f-a820-b9a1aa487fdd"
      },
      "outputs": [
        {
          "output_type": "stream",
          "name": "stdout",
          "text": [
            "RMSE: 11065.31629163177 \n",
            "\n",
            "MAE: 3015.80282805312\n"
          ]
        }
      ],
      "source": [
        "from sklearn import linear_model\n",
        "\n",
        "\n",
        "df = pd.read_csv(\"OnlineNewsPopularity/OnlineNewsPopularity.csv\")\n",
        "df = df.rename(columns=lambda x: x.strip())\n",
        "df = df.iloc[:, 2:]\n",
        "\n",
        "X = df.drop(\"shares\", axis=1) \n",
        "y = df[\"shares\"] \n",
        "\n",
        "\n",
        "X_train, X_test, y_train, y_test = train_test_split(X, y, test_size=0.2, random_state=1938214)\n",
        "\n",
        "reg = linear_model.Ridge(alpha = 0.5)\n",
        "reg.fit(X_train, y_train)\n",
        "  \n",
        "y_pred = reg.predict(X_test)\n",
        "\n",
        "rmse = math.sqrt(mean_squared_error(y_test, y_pred))\n",
        "print(\"RMSE:\", rmse, \"\\n\")\n",
        "\n",
        "mae = mean_absolute_error(y_test, y_pred)\n",
        "print(\"MAE:\", mae)"
      ]
    },
    {
      "cell_type": "markdown",
      "metadata": {
        "id": "b8ppHuYrPmY5"
      },
      "source": [
        "## Linear Regression con regolarizzazione L1 ed L2 (Elastic Net)\n",
        "\n",
        "Ottenuta combinando la regolarizzazione L1 e la regolarizzazione L2. \n",
        "<br>\n",
        "La formula del gradiente è quindi:\n",
        "$ \\nabla = \\frac{X^T \\cdot (y_{pred} - y) + \\lambda_{1} sign(w) + \\lambda_{2} w}{n_{samples}} $    \n",
        "\n",
        "\n",
        "\n"
      ]
    },
    {
      "cell_type": "code",
      "execution_count": null,
      "metadata": {
        "id": "fx990oytP-XJ"
      },
      "outputs": [],
      "source": [
        "\n",
        "import numpy as np\n",
        "import pandas as pd\n",
        "import math\n",
        "from sklearn.metrics import mean_squared_error\n",
        "from sklearn.model_selection import train_test_split\n",
        "from sklearn import datasets\n",
        "import matplotlib.pyplot as plt\n",
        "from sklearn.preprocessing import StandardScaler\n",
        "\n",
        "\n",
        "# Cambiando soltanto la formula del gradiente rispetto al modello precedente, non commento le istruzioni eseguite\n",
        "\n",
        "\n",
        "class MyElasticNet:\n",
        "\n",
        "    def __init__(self, alpha=0.1, n_iters=1000, l1 = 0.5, l2 = 0.5):\n",
        "        self.alpha = alpha\n",
        "        self.n_iters = n_iters\n",
        "        self.weights = None  \n",
        "        self.l1 = l1\n",
        "        self.l2 = l2\n",
        "\n",
        "\n",
        "    def fit(self, X, y):\n",
        "\n",
        "        n_samples, n_features = X.shape  \n",
        "\n",
        "        self.weights = np.zeros(n_features)\n",
        "\n",
        "        for i in range(self.n_iters):\n",
        "       \n",
        "          y_pred = np.dot(X, self.weights)\n",
        "\n",
        "          grad = (np.dot(X.transpose(), (y_pred - y)) + self.l1 * np.sign(self.weights) + self.l2 * self.weights) / n_samples    \n",
        "            \n",
        "          self.weights = self.weights - self.alpha * grad\n",
        "\n",
        "\n",
        "    def predict(self, X):\n",
        "        X = np.hstack([np.ones((X.shape[0], 1)), X])\n",
        "        y_pred = np.dot(X, self.weights)\n",
        "        return y_pred\n",
        "\n",
        "\n",
        "\n",
        "\n",
        "df = pd.read_csv(\"OnlineNewsPopularity/OnlineNewsPopularity.csv\")\n",
        "df = df.rename(columns=lambda x: x.strip())\n",
        "df = df.iloc[:, 2:]\n",
        "\n",
        "X = df.drop(\"shares\", axis=1) \n",
        "y = df[\"shares\"] \n",
        "\n",
        "\n",
        "X_train, X_test, y_train, y_test = train_test_split(X, y, test_size=0.2, random_state=1938214)\n",
        "\n",
        "scaler = StandardScaler()\n",
        "scaler.fit(X_train)\n",
        "X_train = scaler.transform(X_train)\n",
        "X_test = scaler.transform(X_test)\n",
        "\n",
        "X_train = np.hstack([np.ones((X_train.shape[0], 1)), X_train]) \n",
        "\n",
        "\n",
        "reg = MyElasticNet()\n",
        "reg.fit(X_train,y_train)\n",
        "\n",
        "y_pred = reg.predict(X_test)"
      ]
    },
    {
      "cell_type": "markdown",
      "metadata": {
        "id": "bffqi3WuBzpi"
      },
      "source": [
        "### Performance Elastic Net"
      ]
    },
    {
      "cell_type": "markdown",
      "metadata": {
        "id": "LR4iQ6XeWj07"
      },
      "source": [
        "**RMSE**:"
      ]
    },
    {
      "cell_type": "code",
      "execution_count": null,
      "metadata": {
        "colab": {
          "base_uri": "https://localhost:8080/"
        },
        "id": "81N2NBpEB1Rn",
        "outputId": "8c167136-966d-4673-d9bd-a1e0ed09653d"
      },
      "outputs": [
        {
          "output_type": "stream",
          "name": "stdout",
          "text": [
            "rmse: 11066.61479174224\n"
          ]
        }
      ],
      "source": [
        "rmse = math.sqrt(mean_squared_error(y_test, y_pred))\n",
        "print(\"rmse:\", rmse)"
      ]
    },
    {
      "cell_type": "markdown",
      "metadata": {
        "id": "d1qCgsrkWltA"
      },
      "source": [
        "**MAE**:"
      ]
    },
    {
      "cell_type": "code",
      "execution_count": null,
      "metadata": {
        "colab": {
          "base_uri": "https://localhost:8080/"
        },
        "id": "hPLSeJdTWlDd",
        "outputId": "9d3d40e2-bc55-4c72-d453-bd5a017d84f6"
      },
      "outputs": [
        {
          "output_type": "stream",
          "name": "stdout",
          "text": [
            "MAE: 3013.0991700651603\n"
          ]
        }
      ],
      "source": [
        "mae = mean_absolute_error(y_test, y_pred)\n",
        "print(\"MAE:\", mae)"
      ]
    },
    {
      "cell_type": "markdown",
      "metadata": {
        "id": "xMOIeK2yP5ih"
      },
      "source": [
        "### Confronto con sklearn"
      ]
    },
    {
      "cell_type": "code",
      "execution_count": null,
      "metadata": {
        "colab": {
          "base_uri": "https://localhost:8080/"
        },
        "id": "ft7zwP8GP6ku",
        "outputId": "d516ea30-9122-4295-c3a1-b55bf7c43281"
      },
      "outputs": [
        {
          "output_type": "stream",
          "name": "stdout",
          "text": [
            "RMSE: 11082.173903183078 \n",
            "\n",
            "MAE: 3025.3947945121718\n"
          ]
        }
      ],
      "source": [
        "from sklearn import linear_model\n",
        "import pandas as pd\n",
        "import numpy as np\n",
        "import math\n",
        "from sklearn.metrics import mean_squared_error\n",
        "from sklearn.model_selection import train_test_split\n",
        "from sklearn import datasets\n",
        "import matplotlib.pyplot as plt\n",
        "from sklearn.preprocessing import StandardScaler\n",
        "\n",
        "\n",
        "\n",
        "df = pd.read_csv(\"OnlineNewsPopularity/OnlineNewsPopularity.csv\")\n",
        "df = df.rename(columns=lambda x: x.strip())\n",
        "df = df.iloc[:, 2:]\n",
        "\n",
        "X = df.drop(\"shares\", axis=1) \n",
        "y = df[\"shares\"] \n",
        "\n",
        "\n",
        "X_train, X_test, y_train, y_test = train_test_split(X, y, test_size=0.2, random_state=1938214)\n",
        "\n",
        "reg = linear_model.ElasticNet()\n",
        "reg.fit(X_train, y_train)\n",
        "  \n",
        "y_pred = reg.predict(X_test)\n",
        "\n",
        "rmse = math.sqrt(mean_squared_error(y_test, y_pred))\n",
        "print(\"RMSE:\", rmse, \"\\n\")\n",
        "\n",
        "mae = mean_absolute_error(y_test, y_pred)\n",
        "print(\"MAE:\", mae)"
      ]
    },
    {
      "cell_type": "markdown",
      "metadata": {
        "id": "WAVjBXZoQYm7"
      },
      "source": [
        "## Classificazione con Linear Regression\n",
        "\n",
        "Utilizziamo un modello di regressione lineare per risolvere il task di classificazione. Abbiamo quindi bisogno di un *decision boundary* che separi le due classi.\n",
        "\n",
        "#### **Threshold Function**\n",
        "Per separare linearmente i dati, la nostra ipotesi h diventa la seguente funzione:\n",
        "\n",
        "\\begin{equation}\n",
        "  h_w(x) = Threshold(z) = \\begin{cases}\n",
        "      1 & \\text{se } z \\geq 0 \\\\\n",
        "      0 & \\text{altrimenti}\n",
        "  \\end{cases}\n",
        "\\end{equation}\n",
        "\n",
        "con $z = w \\cdot x$\n",
        "\n"
      ]
    },
    {
      "cell_type": "code",
      "execution_count": null,
      "metadata": {
        "colab": {
          "base_uri": "https://localhost:8080/",
          "height": 472
        },
        "id": "j9Z62MgLStCv",
        "outputId": "12100a8e-0285-4129-cc2d-74829d150108"
      },
      "outputs": [
        {
          "output_type": "display_data",
          "data": {
            "text/plain": [
              "<Figure size 640x480 with 1 Axes>"
            ],
            "image/png": "[encoded data removed]"
          },
          "metadata": {}
        }
      ],
      "source": [
        "import matplotlib.pyplot as plt\n",
        "def step(x):\n",
        "    return np.heaviside(x, 0.5)\n",
        "x = np.linspace(-5, 5, 1000)\n",
        "y = step(x)\n",
        "plt.plot(x, y)\n",
        "plt.title('Separatore Lineare')\n",
        "plt.xlabel('z')\n",
        "plt.ylabel('h')\n",
        "plt.show()"
      ]
    },
    {
      "cell_type": "markdown",
      "metadata": {
        "id": "-vxb2CPCSsOh"
      },
      "source": [
        "\n",
        "\n",
        "Data la difficoltà del problema, il seguente modello produce un accuracy sotto il 60%. Utilizzare una threshold meno \"netta\", come si vedrà con il modello successivo, migliora le prestazioni."
      ]
    },
    {
      "cell_type": "code",
      "execution_count": null,
      "metadata": {
        "id": "8xMp0_LIQlEr"
      },
      "outputs": [],
      "source": [
        "import random\n",
        "import numpy as np\n",
        "import pandas as pd\n",
        "import math\n",
        "from sklearn.metrics import accuracy_score\n",
        "from sklearn.model_selection import train_test_split\n",
        "from sklearn import datasets\n",
        "import matplotlib.pyplot as plt\n",
        "from sklearn.preprocessing import StandardScaler\n",
        "\n",
        "\n",
        "class MyLinearClassifier:\n",
        "\n",
        "    def __init__(self, alpha=0.01, n_iters=1000):\n",
        "        self.alpha = alpha\n",
        "        self.n_iters = n_iters\n",
        "        self.weights = None  \n",
        "\n",
        "    def fit(self, X, y):\n",
        "\n",
        "        n_samples, n_features = X.shape  \n",
        "\n",
        "        self.weights = np.zeros(n_features)\n",
        "\n",
        "        for i in range(self.n_iters):\n",
        "\n",
        "          example = X\n",
        "\n",
        "          examples_target = y\n",
        "\n",
        "          y_pred_example = []\n",
        "\n",
        "          # calcolo della funzione di threshold\n",
        "          for k in range(example.shape[0]):\n",
        "\n",
        "            w_x = np.dot(self.weights, example[k])\n",
        "\n",
        "            # if w*x >= 0 classe 1, altrimenti classe 0 \n",
        "            if (w_x >= 0): \n",
        "              y_pred_example.append(1)\n",
        "            else:\n",
        "              y_pred_example.append(0)\n",
        "\n",
        "          # aggiornamento dei pesi eseguito utilizzando l'errore tra i valori binari di ground truth e quelli appena predetti   \n",
        "          self.weights = self.weights + self.alpha * np.matmul((examples_target - y_pred_example), example)\n",
        "\n",
        "\n",
        "    def predict(self, X):\n",
        "      \n",
        "        X = np.hstack([np.ones((X.shape[0], 1)), X])\n",
        "\n",
        "        y_pred = []\n",
        "\n",
        "        for i in range(X.shape[0]):\n",
        "          z = np.dot(self.weights, X[i])\n",
        "          if (z >= 0):\n",
        "            y_pred.append(1)\n",
        "          else:\n",
        "            y_pred.append(0)\n",
        "         \n",
        "        return y_pred\n",
        "    \n",
        "\n",
        "df = pd.read_csv(\"OnlineNewsPopularity/OnlineNewsPopularity.csv\")\n",
        "df = df.rename(columns=lambda x: x.strip())\n",
        "df = df.iloc[:, 2:]\n",
        "\n",
        "X = df.drop(\"shares\", axis=1) \n",
        "\n",
        "y = df[\"shares\"].apply(lambda x: 1 if x >= 1400 else 0)\n",
        "\n",
        "\n",
        "X_train, X_test, y_train, y_test = train_test_split(X, y, test_size=0.2, random_state=1938214)\n",
        "\n",
        "scaler = StandardScaler()\n",
        "scaler.fit(X_train)\n",
        "X_train = scaler.transform(X_train)\n",
        "X_test = scaler.transform(X_test)\n",
        "\n",
        "X_train = np.hstack([np.ones((X_train.shape[0], 1)), X_train]) \n",
        "\n",
        "\n",
        "reg = MyLinearClassifier()\n",
        "reg.fit(X_train,y_train)\n",
        "\n",
        "y_pred = reg.predict(X_test)"
      ]
    },
    {
      "cell_type": "markdown",
      "metadata": {
        "id": "t8dFeq27M-4K"
      },
      "source": [
        "### Prestazioni Linear Regression per task di Classificazione"
      ]
    },
    {
      "cell_type": "markdown",
      "metadata": {
        "id": "SD0Ep0wH-V0a"
      },
      "source": [
        "**Accuracy**: \n"
      ]
    },
    {
      "cell_type": "code",
      "execution_count": null,
      "metadata": {
        "colab": {
          "base_uri": "https://localhost:8080/"
        },
        "id": "_p_yoAFY-V0b",
        "outputId": "08ec0201-54a0-4fd3-f985-ebe65dde16e9"
      },
      "outputs": [
        {
          "output_type": "stream",
          "name": "stdout",
          "text": [
            "accuracy: 0.5896077689494261\n"
          ]
        }
      ],
      "source": [
        "acc = accuracy_score(y_test, y_pred)\n",
        "print(\"accuracy:\", acc)"
      ]
    },
    {
      "cell_type": "markdown",
      "metadata": {
        "id": "kfMtETgb-V0b"
      },
      "source": [
        "**Confusion Matrix**:"
      ]
    },
    {
      "cell_type": "code",
      "execution_count": null,
      "metadata": {
        "colab": {
          "base_uri": "https://localhost:8080/",
          "height": 454
        },
        "id": "dWLUxU5j-V0c",
        "outputId": "db95beac-eeae-4e39-9b4b-ac9e8bcd7cf2"
      },
      "outputs": [
        {
          "output_type": "display_data",
          "data": {
            "text/plain": [
              "<Figure size 640x480 with 1 Axes>"
            ],
            "image/png": "[encoded data removed]"
          },
          "metadata": {}
        }
      ],
      "source": [
        "def plot_cm(data):\n",
        "  fig, ax = plt.subplots()\n",
        "  ax.matshow(data, cmap='Reds')\n",
        "  for (i, j), z in np.ndenumerate(data):\n",
        "    ax.text(j, i, '{0:0.1f}'.format(z), ha='center', va='center')\n",
        "  plt.xlabel(\"y_pred\")\n",
        "  plt.ylabel(\"y_true\")\n",
        "  plt.show()\n",
        "\n",
        "cm = confusion_matrix(y_test, y_pred)\n",
        "plot_cm(cm)"
      ]
    },
    {
      "cell_type": "markdown",
      "metadata": {
        "id": "q8FQIqgF-V0c"
      },
      "source": [
        "**Precision**, **Recall** e **F1 Score**"
      ]
    },
    {
      "cell_type": "code",
      "execution_count": null,
      "metadata": {
        "colab": {
          "base_uri": "https://localhost:8080/"
        },
        "id": "y89w-N-C-V0c",
        "outputId": "96ef5f8e-8d83-4d85-d807-f83c63df7d3e"
      },
      "outputs": [
        {
          "output_type": "stream",
          "name": "stdout",
          "text": [
            "Precision: 0.5895071418902927\n",
            "Recall: 0.5896077689494261\n",
            "F1 Score: 0.5895561084415868\n"
          ]
        }
      ],
      "source": [
        "from sklearn.metrics import precision_recall_fscore_support\n",
        "\n",
        "\n",
        "precision, recall, f1_score, _ = precision_recall_fscore_support(y_test, y_pred, average='weighted')\n",
        "\n",
        "print('Precision:', precision)\n",
        "print('Recall:', recall)\n",
        "print('F1 Score:', f1_score)"
      ]
    },
    {
      "cell_type": "markdown",
      "metadata": {
        "id": "YEZI-hfL-V0d"
      },
      "source": [
        "**ROC Curve**:"
      ]
    },
    {
      "cell_type": "code",
      "execution_count": null,
      "metadata": {
        "colab": {
          "base_uri": "https://localhost:8080/",
          "height": 472
        },
        "id": "t2dC1weV-V0d",
        "outputId": "70a8cab1-a8cc-4b89-c16e-70257d75e322"
      },
      "outputs": [
        {
          "output_type": "display_data",
          "data": {
            "text/plain": [
              "<Figure size 640x480 with 1 Axes>"
            ],
            "image/png": "[encoded data removed]"
          },
          "metadata": {}
        }
      ],
      "source": [
        "from sklearn.metrics import roc_curve, auc\n",
        "\n",
        "fpr, tpr, thresholds = roc_curve(y_test, y_pred)\n",
        "\n",
        "roc_auc = auc(fpr, tpr)\n",
        "\n",
        "plt.plot(fpr, tpr, color='darkorange', lw=2, label='ROC curve (area = %0.2f)' % roc_auc)\n",
        "plt.plot([0, 1], [0, 1], color='navy', lw=2, linestyle='--')\n",
        "plt.xlim([0.0, 1.0])\n",
        "plt.ylim([0.0, 1.05])\n",
        "plt.xlabel('False Positive Rate')\n",
        "plt.ylabel('Recall (True Positive Rate)')\n",
        "plt.title('Receiver Operating Characteristic (ROC) Curve')\n",
        "plt.legend(loc=\"lower right\")\n",
        "plt.show()"
      ]
    },
    {
      "cell_type": "markdown",
      "metadata": {
        "id": "hr-DyuxRQc5L"
      },
      "source": [
        "### Confronto con sklearn"
      ]
    },
    {
      "cell_type": "code",
      "execution_count": null,
      "metadata": {
        "colab": {
          "base_uri": "https://localhost:8080/",
          "height": 1000
        },
        "id": "92RFK25LQkEW",
        "outputId": "2c673c38-1244-4a0b-ab4f-e925cdceb712"
      },
      "outputs": [
        {
          "output_type": "stream",
          "name": "stdout",
          "text": [
            "accuracy del modello sul test: 0.6435868331441543\n",
            "\n",
            "\n"
          ]
        },
        {
          "output_type": "display_data",
          "data": {
            "text/plain": [
              "<Figure size 640x480 with 1 Axes>"
            ],
            "image/png": "[encoded data removed]"
          },
          "metadata": {}
        },
        {
          "output_type": "stream",
          "name": "stdout",
          "text": [
            "\n",
            "\n",
            "Precision: 0.6437340556558627\n",
            "Recall: 0.6435868331441543\n",
            "F1 Score: 0.6435496866175546\n",
            "\n",
            "\n"
          ]
        },
        {
          "output_type": "display_data",
          "data": {
            "text/plain": [
              "<Figure size 640x480 with 1 Axes>"
            ],
            "image/png": "[encoded data removed]"
          },
          "metadata": {}
        }
      ],
      "source": [
        "from sklearn.linear_model import SGDClassifier\n",
        "\n",
        "df = pd.read_csv(\"OnlineNewsPopularity/OnlineNewsPopularity.csv\")\n",
        "df = df.rename(columns=lambda x: x.strip())\n",
        "df = df.iloc[:, 2:]\n",
        "\n",
        "X = df.drop(\"shares\", axis=1) \n",
        "y = df[\"shares\"] \n",
        "\n",
        "y = df[\"shares\"].apply(lambda x: 1 if x > 1400 else 0)\n",
        "\n",
        "\n",
        "X_train, X_test, y_train, y_test = train_test_split(X, y, test_size=0.2, random_state=1938214)\n",
        "\n",
        "scaler = StandardScaler()\n",
        "scaler.fit(X_train)\n",
        "X_train = scaler.transform(X_train)\n",
        "X_test = scaler.transform(X_test)\n",
        "\n",
        "reg = SGDClassifier()\n",
        "reg.fit(X_train,y_train)\n",
        "\n",
        "y_pred = reg.predict(X_test)\n",
        "\n",
        "acc = accuracy_score(y_test, y_pred)\n",
        "\n",
        "print(\"accuracy del modello sul test:\", acc)\n",
        "\n",
        "print(\"\\n\")\n",
        "\n",
        "def plot_cm(data):\n",
        "  fig, ax = plt.subplots()\n",
        "  ax.matshow(data, cmap='Reds')\n",
        "  for (i, j), z in np.ndenumerate(data):\n",
        "    ax.text(j, i, '{0:0.1f}'.format(z), ha='center', va='center')\n",
        "  plt.xlabel(\"y_pred\")\n",
        "  plt.ylabel(\"y_true\")\n",
        "  plt.show()\n",
        "\n",
        "cm = confusion_matrix(y_test, y_pred)\n",
        "plot_cm(cm)\n",
        "\n",
        "print(\"\\n\")\n",
        "\n",
        "precision, recall, f1_score, _ = precision_recall_fscore_support(y_test, y_pred, average='weighted')\n",
        "\n",
        "print('Precision:', precision)\n",
        "print('Recall:', recall)\n",
        "print('F1 Score:', f1_score)\n",
        "\n",
        "print(\"\\n\")\n",
        "\n",
        "fpr, tpr, thresholds = roc_curve(y_test, y_pred)\n",
        "\n",
        "\n",
        "roc_auc = auc(fpr, tpr)\n",
        "\n",
        "plt.plot(fpr, tpr, color='darkorange', lw=2, label='ROC curve (area = %0.2f)' % roc_auc)\n",
        "plt.plot([0, 1], [0, 1], color='navy', lw=2, linestyle='--')\n",
        "plt.xlim([0.0, 1.0])\n",
        "plt.ylim([0.0, 1.05])\n",
        "plt.xlabel('False Positive Rate')\n",
        "plt.ylabel('Recall (True Positive Rate)')\n",
        "plt.title('Receiver Operating Characteristic (ROC) Curve')\n",
        "plt.legend(loc=\"lower right\")\n",
        "plt.show()"
      ]
    },
    {
      "cell_type": "markdown",
      "metadata": {
        "id": "8csAEbprQIZJ"
      },
      "source": [
        "# Terzo modello: Logistic Regression\n",
        "Utilizziamo un modello di regressione logistica per il task di classificazione. La funzione utilizzata dal modello è la sigmoide:\n",
        "\\begin{equation}\n",
        "h_w(z) =Logistic(z) = \\frac{1}{1 + e^{-z}}\n",
        "\\end{equation}\n",
        "\n",
        "#### **Perché utilizzare una Logistic Regression?**\n",
        "La Logistic Regression risolve i problemi che si riscontrano utilizzando una Linear Regression per fare classificazione: poiché la funzione di Threshold è linea netta, una regressione lineare divide troppo nettamente nelle due classi i nostri samples. Infatti, anche un sample molto vicino al *decision boundary* è indistinguibile in questo senso da sample che sono molto lontani dal bordo. Un modello di Logistic Regression invece, per come è costruita la funzione logistica, discrimina meglio tra punti che sono nettamente 0, nettamente 1, e casi limite sul bordo. "
      ]
    },
    {
      "cell_type": "code",
      "execution_count": null,
      "metadata": {
        "colab": {
          "base_uri": "https://localhost:8080/",
          "height": 472
        },
        "id": "FFTwwbKBTgfC",
        "outputId": "64c0a1fb-39a1-4d3a-993a-ab2504df0078"
      },
      "outputs": [
        {
          "output_type": "display_data",
          "data": {
            "text/plain": [
              "<Figure size 640x480 with 1 Axes>"
            ],
            "image/png": "[encoded data removed]"
          },
          "metadata": {}
        }
      ],
      "source": [
        "import matplotlib.pyplot as plt\n",
        "def logistic(x):\n",
        "    return 1 / (1 + np.exp(-x))\n",
        "x = np.linspace(-6, 6, 1000)\n",
        "y = logistic(x)\n",
        "plt.plot(x, y)\n",
        "plt.title('Funzione Logistica')\n",
        "plt.xlabel('z')\n",
        "plt.ylabel('h')\n",
        "plt.ylim([0, 1])\n",
        "plt.yticks([0, 0.5, 1])\n",
        "plt.show()"
      ]
    },
    {
      "cell_type": "markdown",
      "metadata": {
        "id": "PFnCwTeZTfuI"
      },
      "source": [
        "\n",
        "Più precisamente, è possibile interpretare il numero tra 0 e 1 ottenuto come **probabilità** di appartenere alla classe 1."
      ]
    },
    {
      "cell_type": "code",
      "execution_count": null,
      "metadata": {
        "id": "C6hx6ZmDQzad"
      },
      "outputs": [],
      "source": [
        "import random\n",
        "import numpy as np\n",
        "import pandas as pd\n",
        "import math\n",
        "from sklearn.metrics import accuracy_score\n",
        "from sklearn.model_selection import train_test_split\n",
        "from sklearn import datasets\n",
        "import matplotlib.pyplot as plt\n",
        "from sklearn.preprocessing import StandardScaler\n",
        "\n",
        "\n",
        "\n",
        "class MyLogRegression:\n",
        "    def __init__(self, learning_rate=0.01, num_iterations=1000):\n",
        "        self.learning_rate = learning_rate\n",
        "        self.num_iterations = num_iterations\n",
        "        self.weights = None\n",
        "        self.bias = None\n",
        "        \n",
        "    def fit(self, X, y):\n",
        "    \n",
        "        n_samples, n_features = X.shape\n",
        "        self.weights = np.zeros(n_features)        \n",
        "    \n",
        "        for i in range(self.num_iterations):\n",
        "        \n",
        "            y_predicted = 1 / (1 + np.exp(-np.dot(X, self.weights))) \n",
        "            \n",
        "            grad = (1 / n_samples) * np.dot(X.T, (y_predicted - y))\n",
        "\n",
        "            self.weights -= self.learning_rate * grad\n",
        "            \n",
        "    def predict(self, X):\n",
        "\n",
        "        X = np.hstack([np.ones((X.shape[0], 1)), X]) \n",
        "\n",
        "        y_predicted = 1 / (1 + np.exp(-np.dot(X, self.weights)))\n",
        "\n",
        "        y_predicted_cls = [1 if i > 0.5 else 0 for i in y_predicted]\n",
        "\n",
        "        return y_predicted_cls\n",
        "    \n",
        "    def sigmoid(self, x):\n",
        "        return \n",
        "\n",
        "\n",
        "df = pd.read_csv(\"OnlineNewsPopularity/OnlineNewsPopularity.csv\")\n",
        "df = df.rename(columns=lambda x: x.strip())\n",
        "df = df.iloc[:, 2:]\n",
        "\n",
        "X = df.drop(\"shares\", axis=1) \n",
        "\n",
        "y = df[\"shares\"].apply(lambda x: 1 if x >= 1400 else 0)\n",
        "\n",
        "\n",
        "X_train, X_test, y_train, y_test = train_test_split(X, y, test_size=0.2, random_state=1938214)\n",
        "\n",
        "scaler = StandardScaler()\n",
        "scaler.fit(X_train)\n",
        "X_train = scaler.transform(X_train)\n",
        "X_test = scaler.transform(X_test)\n",
        "\n",
        "X_train = np.hstack([np.ones((X_train.shape[0], 1)), X_train]) \n",
        "\n",
        "reg = MyLogRegression()\n",
        "reg.fit(X_train, y_train)\n",
        "\n",
        "y_pred = reg.predict(X_test)"
      ]
    },
    {
      "cell_type": "markdown",
      "metadata": {
        "id": "QjpkN76CB47N"
      },
      "source": [
        "## Prestazioni Logistic Regression"
      ]
    },
    {
      "cell_type": "markdown",
      "metadata": {
        "id": "pJM1jwV1B47O"
      },
      "source": [
        "**Accuracy**: \n"
      ]
    },
    {
      "cell_type": "code",
      "execution_count": null,
      "metadata": {
        "colab": {
          "base_uri": "https://localhost:8080/"
        },
        "id": "kFgCZ24oB47O",
        "outputId": "a8ac2d1e-309e-4c80-b546-c5bef5b3cb35"
      },
      "outputs": [
        {
          "output_type": "stream",
          "name": "stdout",
          "text": [
            "accuracy: 0.6515323496027242\n"
          ]
        }
      ],
      "source": [
        "acc = accuracy_score(y_test, y_pred)\n",
        "print(\"accuracy:\", acc)"
      ]
    },
    {
      "cell_type": "markdown",
      "metadata": {
        "id": "gEO94imdB47O"
      },
      "source": [
        "**Confusion Matrix**:"
      ]
    },
    {
      "cell_type": "code",
      "execution_count": null,
      "metadata": {
        "colab": {
          "base_uri": "https://localhost:8080/",
          "height": 454
        },
        "id": "o2aQGea-B47P",
        "outputId": "f0053728-91c9-4c0f-d294-29cbbbd67b81"
      },
      "outputs": [
        {
          "output_type": "display_data",
          "data": {
            "text/plain": [
              "<Figure size 640x480 with 1 Axes>"
            ],
            "image/png": "[encoded data removed]"
          },
          "metadata": {}
        }
      ],
      "source": [
        "def plot_cm(data):\n",
        "  fig, ax = plt.subplots()\n",
        "  ax.matshow(data, cmap='Reds')\n",
        "  for (i, j), z in np.ndenumerate(data):\n",
        "    ax.text(j, i, '{0:0.1f}'.format(z), ha='center', va='center')\n",
        "  plt.xlabel(\"y_pred\")\n",
        "  plt.ylabel(\"y_true\")\n",
        "  plt.show()\n",
        "\n",
        "cm = confusion_matrix(y_test, y_pred)\n",
        "plot_cm(cm)"
      ]
    },
    {
      "cell_type": "markdown",
      "metadata": {
        "id": "m5nnzj_mB47P"
      },
      "source": [
        "**Precision**, **Recall** e **F1 Score**"
      ]
    },
    {
      "cell_type": "code",
      "execution_count": null,
      "metadata": {
        "colab": {
          "base_uri": "https://localhost:8080/"
        },
        "id": "6T06RxBwB47P",
        "outputId": "1c50bcdb-f28c-4fd2-a1cc-6048570b0dc1"
      },
      "outputs": [
        {
          "output_type": "stream",
          "name": "stdout",
          "text": [
            "Precision: 0.6505886355062255\n",
            "Recall: 0.6515323496027242\n",
            "F1 Score: 0.6507636668886978\n"
          ]
        }
      ],
      "source": [
        "from sklearn.metrics import precision_recall_fscore_support\n",
        "\n",
        "\n",
        "precision, recall, f1_score, _ = precision_recall_fscore_support(y_test, y_pred, average='weighted')\n",
        "\n",
        "print('Precision:', precision)\n",
        "print('Recall:', recall)\n",
        "print('F1 Score:', f1_score)"
      ]
    },
    {
      "cell_type": "markdown",
      "metadata": {
        "id": "rCAj7jISB47P"
      },
      "source": [
        "**ROC Curve**:"
      ]
    },
    {
      "cell_type": "code",
      "execution_count": null,
      "metadata": {
        "colab": {
          "base_uri": "https://localhost:8080/",
          "height": 472
        },
        "id": "bvGQEl_XB47P",
        "outputId": "860bf75c-5bac-4c3c-d9d0-6f19104f2f46"
      },
      "outputs": [
        {
          "output_type": "display_data",
          "data": {
            "text/plain": [
              "<Figure size 640x480 with 1 Axes>"
            ],
            "image/png": "[encoded data removed]"
          },
          "metadata": {}
        }
      ],
      "source": [
        "from sklearn.metrics import roc_curve, auc\n",
        "\n",
        "fpr, tpr, thresholds = roc_curve(y_test, y_pred)\n",
        "\n",
        "roc_auc = auc(fpr, tpr)\n",
        "\n",
        "plt.plot(fpr, tpr, color='darkorange', lw=2, label='ROC curve (area = %0.3f)' % roc_auc)\n",
        "plt.plot([0, 1], [0, 1], color='navy', lw=2, linestyle='--')\n",
        "plt.xlim([0.0, 1.0])\n",
        "plt.ylim([0.0, 1.05])\n",
        "plt.xlabel('False Positive Rate')\n",
        "plt.ylabel('Recall (True Positive Rate)')\n",
        "plt.title('Receiver Operating Characteristic (ROC) Curve')\n",
        "plt.legend(loc=\"lower right\")\n",
        "plt.show()"
      ]
    },
    {
      "cell_type": "markdown",
      "metadata": {
        "id": "nZUsVnIhQNML"
      },
      "source": [
        "## Confronto con sklearn"
      ]
    },
    {
      "cell_type": "code",
      "execution_count": null,
      "metadata": {
        "colab": {
          "base_uri": "https://localhost:8080/",
          "height": 1000
        },
        "id": "9Uaq8f0kQIvH",
        "outputId": "c14cfe12-9285-4ea7-e5d2-5d96ddda9f10"
      },
      "outputs": [
        {
          "output_type": "stream",
          "name": "stdout",
          "text": [
            "accuracy: 0.6525413040736536\n",
            "\n",
            "\n"
          ]
        },
        {
          "output_type": "display_data",
          "data": {
            "text/plain": [
              "<Figure size 640x480 with 1 Axes>"
            ],
            "image/png": "[encoded data removed]"
          },
          "metadata": {}
        },
        {
          "output_type": "stream",
          "name": "stdout",
          "text": [
            "\n",
            "\n",
            "Precision: 0.6517222682696214\n",
            "Recall: 0.6525413040736536\n",
            "F1 Score: 0.6517676766325569\n",
            "\n",
            "\n"
          ]
        },
        {
          "output_type": "display_data",
          "data": {
            "text/plain": [
              "<Figure size 640x480 with 1 Axes>"
            ],
            "image/png": "[encoded data removed]"
          },
          "metadata": {}
        }
      ],
      "source": [
        "from sklearn.linear_model import LogisticRegression\n",
        "import random\n",
        "import numpy as np\n",
        "import pandas as pd\n",
        "import math\n",
        "from sklearn.metrics import accuracy_score\n",
        "from sklearn.model_selection import train_test_split\n",
        "from sklearn import datasets\n",
        "import matplotlib.pyplot as plt\n",
        "from sklearn.preprocessing import StandardScaler\n",
        "\n",
        "\n",
        "\n",
        "df = pd.read_csv(\"OnlineNewsPopularity/OnlineNewsPopularity.csv\")\n",
        "df = df.rename(columns=lambda x: x.strip())\n",
        "df = df.iloc[:, 2:]\n",
        "\n",
        "X = df.drop(\"shares\", axis=1)  \n",
        "\n",
        "y = df[\"shares\"].apply(lambda x: 1 if x >= 1400 else 0)\n",
        "\n",
        "\n",
        "X_train, X_test, y_train, y_test = train_test_split(X, y, test_size=0.2, random_state=1234)\n",
        "\n",
        "scaler = StandardScaler()\n",
        "scaler.fit(X_train)\n",
        "X_train = scaler.transform(X_train)\n",
        "X_test = scaler.transform(X_test)\n",
        "\n",
        "\n",
        "reg = LogisticRegression()\n",
        "reg.fit(X_train, y_train)\n",
        "\n",
        "y_pred = reg.predict(X_test)\n",
        "\n",
        "acc = accuracy_score(y_test, y_pred)\n",
        "print(\"accuracy:\", acc)\n",
        "\n",
        "print(\"\\n\")\n",
        "\n",
        "def plot_cm(data):\n",
        "  fig, ax = plt.subplots()\n",
        "  ax.matshow(data, cmap='Reds')\n",
        "  for (i, j), z in np.ndenumerate(data):\n",
        "    ax.text(j, i, '{0:0.1f}'.format(z), ha='center', va='center')\n",
        "  plt.xlabel(\"y_pred\")\n",
        "  plt.ylabel(\"y_true\")\n",
        "  plt.show()\n",
        "\n",
        "cm = confusion_matrix(y_test, y_pred)\n",
        "plot_cm(cm)\n",
        "\n",
        "print(\"\\n\")\n",
        "\n",
        "precision, recall, f1_score, _ = precision_recall_fscore_support(y_test, y_pred, average='weighted')\n",
        "\n",
        "print('Precision:', precision)\n",
        "print('Recall:', recall)\n",
        "print('F1 Score:', f1_score)\n",
        "\n",
        "print(\"\\n\")\n",
        "\n",
        "fpr, tpr, thresholds = roc_curve(y_test, y_pred)\n",
        "\n",
        "roc_auc = auc(fpr, tpr)\n",
        "\n",
        "plt.plot(fpr, tpr, color='darkorange', lw=2, label='ROC curve (area = %0.2f)' % roc_auc)\n",
        "plt.plot([0, 1], [0, 1], color='navy', lw=2, linestyle='--')\n",
        "plt.xlim([0.0, 1.0])\n",
        "plt.ylim([0.0, 1.05])\n",
        "plt.xlabel('False Positive Rate')\n",
        "plt.ylabel('Recall (True Positive Rate)')\n",
        "plt.title('Receiver Operating Characteristic (ROC) Curve')\n",
        "plt.legend(loc=\"lower right\")\n",
        "plt.show()"
      ]
    },
    {
      "cell_type": "markdown",
      "metadata": {
        "id": "AdvUW0cRWiYe"
      },
      "source": [
        "# Quarto Modello: K-nearest neighbors\n",
        "Partendo da un semplice modello di *lookup table* con entry $<sample, label>$ in cui, dato in input un sample x si restituisce, se esiste, la classe corrispondente, il KNN estende alla possibilità di restituire i **k sample che sono più vicini a x**. \n",
        "\n",
        "<br>\n",
        "\n",
        "Il preprocessamento dei dati prevede come al solito l'eliminazione degli attributi non predittivi, rendere y binario e normalizzare il dataset. Sarebbe possibile fare **hypertuning** su K, ma ho deciso di non inserirla in quanto i tempi di esecuzione sarebbero diventati troppo alti."
      ]
    },
    {
      "cell_type": "markdown",
      "metadata": {
        "id": "_frzcF2TXVW8"
      },
      "source": [
        "## Classificazione con KNN\n",
        "Per fare classificazione, prendiamo dai k vicini la label più ricorrente (majority voting). Utilizziamo un k dispari in modo che non possa esserci una situazione di pareggio."
      ]
    },
    {
      "cell_type": "code",
      "execution_count": null,
      "metadata": {
        "id": "PX4tJFUMXZ5y"
      },
      "outputs": [],
      "source": [
        "from scipy.spatial.distance import cdist\n",
        "import random\n",
        "import numpy as np\n",
        "import pandas as pd\n",
        "import math\n",
        "from sklearn.metrics import accuracy_score\n",
        "from sklearn.model_selection import train_test_split\n",
        "from sklearn import datasets\n",
        "import matplotlib.pyplot as plt\n",
        "from sklearn.preprocessing import StandardScaler\n",
        "\n",
        "\n",
        "\n",
        "class MyKNNClassifier:\n",
        "  \n",
        "  def __init__(self, k):\n",
        "\n",
        "      if (k % 2 == 0):\n",
        "        print(\"k deve essere dispari!\")\n",
        "        exit()\n",
        "\n",
        "      self.lookupTable = []   # conterrà tutti i sample del training\n",
        "      self.k = k \n",
        "      self.distances = [] # conterrà le distanze tra i punti della lookup table\n",
        "      self.labels = None\n",
        "\n",
        "      \n",
        "  def fit(self, X, y):\n",
        "\n",
        "    # la lookup table deve contenere i sample del training: decido di usare direttamente X come lookup table\n",
        "    self.lookupTable = X\n",
        "    self.labels = y \n",
        "  \n",
        "  \n",
        "  def predict(self, samples):\n",
        "\n",
        "    result = []\n",
        "\n",
        "    # sulla riga i e la colonna j avremo la distanza euclidea tra il punto i di self.lookupTable\n",
        "    # e il punto j di samples\n",
        "    self.distances = cdist(samples, self.lookupTable, 'euclidean')\n",
        "\n",
        "    # ordiniamo in ordine crescente secondo la distanza\n",
        "    # argsort restituisce gli indici originali dell'array non ordinato, quindi\n",
        "    # tramite i primi k elementi otteniamo l'informazione su quali sono i corrispettivi \n",
        "    # indici per avere la lista ordinata\n",
        "\n",
        "    for e in range(len(samples)):\n",
        "      \n",
        "      k_indexes = (np.argsort(self.distances[e]))[:self.k]\n",
        "\n",
        "      # per ogni coppia (distanza, indice) nei primi k elementi di distances_ordinata prendiamo il secondo elemento (indice) e troviamo gli elementi\n",
        "      # della lookupTable che hanno quegli indici. Di questi elementi prendiamo solo la label\n",
        "      # (i valori del dizionario sono coppie (sample, label))\n",
        "      knn =  [self.labels.iloc[i] for i in k_indexes]\n",
        "\n",
        "\n",
        "      # vedo tra i k qual è la classe predominante e scelgo quella (major voting)\n",
        "      if (knn.count(0) > knn.count(1)):\n",
        "        result.append(0)\n",
        "      else:\n",
        "        result.append(1)\n",
        "\n",
        "      \n",
        "    return result\n",
        "\n",
        "\n",
        "\n",
        "df = pd.read_csv(\"OnlineNewsPopularity/OnlineNewsPopularity.csv\")\n",
        "df = df.rename(columns=lambda x: x.strip())\n",
        "df = df.iloc[:, 2:]\n",
        "\n",
        "X = df.drop(\"shares\", axis=1) \n",
        "\n",
        "y = df[\"shares\"].apply(lambda x: 1 if x >= 1400 else 0)\n",
        "\n",
        "\n",
        "# normalizzazione\n",
        "X_train, X_test, y_train, y_test = train_test_split(X, y, test_size=0.2, random_state=1938214)\n",
        "scaler = StandardScaler()\n",
        "scaler.fit(X_train)\n",
        "X_train = scaler.transform(X_train)\n",
        "X_test = scaler.transform(X_test) \n",
        "\n",
        "# k = 5 è solitamente un ottimo valore\n",
        "reg = MyKNNClassifier(k = 5)\n",
        "reg.fit(X_train, y_train)\n",
        "\n",
        "y_pred = reg.predict(X_test)"
      ]
    },
    {
      "cell_type": "markdown",
      "metadata": {
        "id": "FpNcQNp3I8jz"
      },
      "source": [
        "### Performance Classificazione con KNN"
      ]
    },
    {
      "cell_type": "markdown",
      "metadata": {
        "id": "_NqsDcGzDYx3"
      },
      "source": [
        "**Accuracy**: \n"
      ]
    },
    {
      "cell_type": "code",
      "execution_count": null,
      "metadata": {
        "colab": {
          "base_uri": "https://localhost:8080/"
        },
        "id": "VRjPXPpoDYx3",
        "outputId": "e43fe6b0-b94f-4c81-a560-7834ea68014b"
      },
      "outputs": [
        {
          "output_type": "stream",
          "name": "stdout",
          "text": [
            "acc: 0.6143271534871989\n"
          ]
        }
      ],
      "source": [
        "acc = accuracy_score(y_test, y_pred)\n",
        "print(\"acc:\", acc)"
      ]
    },
    {
      "cell_type": "markdown",
      "metadata": {
        "id": "zOVskzhxDYx3"
      },
      "source": [
        "**Confusion Matrix**:"
      ]
    },
    {
      "cell_type": "code",
      "execution_count": null,
      "metadata": {
        "colab": {
          "base_uri": "https://localhost:8080/",
          "height": 454
        },
        "id": "GLfMD44SDYx3",
        "outputId": "78ad222c-85c6-44aa-d566-4600015e66cd"
      },
      "outputs": [
        {
          "output_type": "display_data",
          "data": {
            "text/plain": [
              "<Figure size 640x480 with 1 Axes>"
            ],
            "image/png": "[encoded data removed]"
          },
          "metadata": {}
        }
      ],
      "source": [
        "def plot_cm(data):\n",
        "  fig, ax = plt.subplots()\n",
        "  ax.matshow(data, cmap='Reds')\n",
        "  for (i, j), z in np.ndenumerate(data):\n",
        "    ax.text(j, i, '{0:0.1f}'.format(z), ha='center', va='center')\n",
        "  plt.xlabel(\"y_pred\")\n",
        "  plt.ylabel(\"y_true\")\n",
        "  plt.show()\n",
        "\n",
        "cm = confusion_matrix(y_test, y_pred)\n",
        "plot_cm(cm)"
      ]
    },
    {
      "cell_type": "markdown",
      "metadata": {
        "id": "kHykt3E8DYx3"
      },
      "source": [
        "**Precision**, **Recall** e **F1 Score**"
      ]
    },
    {
      "cell_type": "code",
      "execution_count": null,
      "metadata": {
        "colab": {
          "base_uri": "https://localhost:8080/"
        },
        "id": "GOC524hYDYx4",
        "outputId": "dda1c92a-3197-4f61-bfbc-c50364024374"
      },
      "outputs": [
        {
          "output_type": "stream",
          "name": "stdout",
          "text": [
            "Precision: 0.616550054706862\n",
            "Recall: 0.6143271534871989\n",
            "F1 Score: 0.614913670343318\n"
          ]
        }
      ],
      "source": [
        "from sklearn.metrics import precision_recall_fscore_support\n",
        "\n",
        "\n",
        "precision, recall, f1_score, _ = precision_recall_fscore_support(y_test, y_pred, average='weighted')\n",
        "\n",
        "print('Precision:', precision)\n",
        "print('Recall:', recall)\n",
        "print('F1 Score:', f1_score)"
      ]
    },
    {
      "cell_type": "markdown",
      "metadata": {
        "id": "x3bfoGeKDYx4"
      },
      "source": [
        "**ROC Curve**:"
      ]
    },
    {
      "cell_type": "code",
      "execution_count": null,
      "metadata": {
        "colab": {
          "base_uri": "https://localhost:8080/",
          "height": 472
        },
        "id": "Zj-SFI2gDYx4",
        "outputId": "8df1c400-39d2-4734-8577-e95fe0bdaa4c"
      },
      "outputs": [
        {
          "output_type": "display_data",
          "data": {
            "text/plain": [
              "<Figure size 640x480 with 1 Axes>"
            ],
            "image/png": "[encoded data removed]"
          },
          "metadata": {}
        }
      ],
      "source": [
        "from sklearn.metrics import roc_curve, auc\n",
        "\n",
        "fpr, tpr, thresholds = roc_curve(y_test, y_pred)\n",
        "\n",
        "roc_auc = auc(fpr, tpr)\n",
        "\n",
        "plt.plot(fpr, tpr, color='darkorange', lw=2, label='ROC curve (area = %0.2f)' % roc_auc)\n",
        "plt.plot([0, 1], [0, 1], color='navy', lw=2, linestyle='--')\n",
        "plt.xlim([0.0, 1.0])\n",
        "plt.ylim([0.0, 1.05])\n",
        "plt.xlabel('False Positive Rate')\n",
        "plt.ylabel('Recall (True Positive Rate)')\n",
        "plt.title('Receiver Operating Characteristic (ROC) Curve')\n",
        "plt.legend(loc=\"lower right\")\n",
        "plt.show()"
      ]
    },
    {
      "cell_type": "markdown",
      "metadata": {
        "id": "8Y1mfzyGDYx4"
      },
      "source": [
        "### Confronto con sklearn"
      ]
    },
    {
      "cell_type": "code",
      "execution_count": null,
      "metadata": {
        "colab": {
          "base_uri": "https://localhost:8080/",
          "height": 1000
        },
        "id": "hNXrcTzoKOyX",
        "outputId": "2bfbb529-db4f-404a-ce0c-0d5d7b1254e7"
      },
      "outputs": [
        {
          "output_type": "stream",
          "name": "stdout",
          "text": [
            "accuracy: 0.6143271534871989\n",
            "\n",
            "\n"
          ]
        },
        {
          "output_type": "display_data",
          "data": {
            "text/plain": [
              "<Figure size 640x480 with 1 Axes>"
            ],
            "image/png": "[encoded data removed]"
          },
          "metadata": {}
        },
        {
          "output_type": "stream",
          "name": "stdout",
          "text": [
            "\n",
            "\n",
            "Precision: 0.616550054706862\n",
            "Recall: 0.6143271534871989\n",
            "F1 Score: 0.614913670343318\n",
            "\n",
            "\n"
          ]
        },
        {
          "output_type": "display_data",
          "data": {
            "text/plain": [
              "<Figure size 640x480 with 1 Axes>"
            ],
            "image/png": "[encoded data removed]"
          },
          "metadata": {}
        }
      ],
      "source": [
        "from sklearn.neighbors import KNeighborsClassifier\n",
        "import sys\n",
        "import random\n",
        "import numpy as np\n",
        "import pandas as pd\n",
        "import math\n",
        "from sklearn.metrics import accuracy_score\n",
        "from sklearn.model_selection import train_test_split\n",
        "from sklearn import datasets\n",
        "import matplotlib.pyplot as plt\n",
        "from sklearn.preprocessing import StandardScaler\n",
        "\n",
        "\n",
        "df = pd.read_csv(\"OnlineNewsPopularity/OnlineNewsPopularity.csv\")\n",
        "df = df.rename(columns=lambda x: x.strip())\n",
        "df = df.iloc[:, 2:]\n",
        "\n",
        "X = df.drop(\"shares\", axis=1) \n",
        "\n",
        "y = df[\"shares\"].apply(lambda x: 1 if x >= 1400 else 0)\n",
        "\n",
        "\n",
        "X_train, X_test, y_train, y_test = train_test_split(X, y, test_size=0.2, random_state=1938214)\n",
        "scaler = StandardScaler()\n",
        "scaler.fit(X_train)\n",
        "X_train = scaler.transform(X_train)\n",
        "X_test = scaler.transform(X_test) \n",
        "\n",
        "reg = KNeighborsClassifier(n_neighbors = 5)\n",
        "reg.fit(X_train, y_train)\n",
        "\n",
        "y_pred = reg.predict(X_test)\n",
        "\n",
        "\n",
        "acc = accuracy_score(y_test, y_pred)\n",
        "print(\"accuracy:\", acc)\n",
        "\n",
        "print(\"\\n\")\n",
        "\n",
        "def plot_cm(data):\n",
        "  fig, ax = plt.subplots()\n",
        "  ax.matshow(data, cmap='Reds')\n",
        "  for (i, j), z in np.ndenumerate(data):\n",
        "    ax.text(j, i, '{0:0.1f}'.format(z), ha='center', va='center')\n",
        "  plt.xlabel(\"y_pred\")\n",
        "  plt.ylabel(\"y_true\")\n",
        "  plt.show()\n",
        "\n",
        "cm = confusion_matrix(y_test, y_pred)\n",
        "plot_cm(cm)\n",
        "\n",
        "print(\"\\n\")\n",
        "\n",
        "precision, recall, f1_score, _ = precision_recall_fscore_support(y_test, y_pred, average='weighted')\n",
        "\n",
        "print('Precision:', precision)\n",
        "print('Recall:', recall)\n",
        "print('F1 Score:', f1_score)\n",
        "\n",
        "print(\"\\n\")\n",
        "\n",
        "fpr, tpr, thresholds = roc_curve(y_test, y_pred)\n",
        "\n",
        "roc_auc = auc(fpr, tpr)\n",
        "\n",
        "plt.plot(fpr, tpr, color='darkorange', lw=2, label='ROC curve (area = %0.2f)' % roc_auc)\n",
        "plt.plot([0, 1], [0, 1], color='navy', lw=2, linestyle='--')\n",
        "plt.xlim([0.0, 1.0])\n",
        "plt.ylim([0.0, 1.05])\n",
        "plt.xlabel('False Positive Rate')\n",
        "plt.ylabel('Recall (True Positive Rate)')\n",
        "plt.title('Receiver Operating Characteristic (ROC) Curve')\n",
        "plt.legend(loc=\"lower right\")\n",
        "plt.show()"
      ]
    },
    {
      "cell_type": "markdown",
      "metadata": {
        "id": "tNHPSlxdXXBh"
      },
      "source": [
        "## Regressione con KNN\n",
        "Per fare regressione, prendiamo la mediana dei valori dei k vicini."
      ]
    },
    {
      "cell_type": "code",
      "execution_count": null,
      "metadata": {
        "id": "LHj9utSSXaOa"
      },
      "outputs": [],
      "source": [
        "from scipy.spatial.distance import cdist\n",
        "import random\n",
        "import numpy as np\n",
        "import pandas as pd\n",
        "import math\n",
        "from sklearn.metrics import mean_squared_error\n",
        "from sklearn.model_selection import train_test_split\n",
        "from sklearn import datasets\n",
        "import matplotlib.pyplot as plt\n",
        "from sklearn.preprocessing import StandardScaler\n",
        "\n",
        "class MyKNNRegressor:\n",
        "  \n",
        "  def __init__(self, k):\n",
        "\n",
        "      if (k % 2 == 0):\n",
        "        print(\"k deve essere dispari!\")\n",
        "        exit()\n",
        "\n",
        "      self.lookupTable = []\n",
        "      self.k = k \n",
        "      self.distances = []\n",
        "      self.labels = None\n",
        "\n",
        "      \n",
        "  def fit(self, X, y):\n",
        "    self.lookupTable = X\n",
        "    self.labels = y \n",
        "  \n",
        "  \n",
        "  def predict(self, samples):\n",
        "\n",
        "    result = []\n",
        "\n",
        "    # sulla riga i e la colonna j avremo la distanza euclidea tra il punto i di self.lookupTable\n",
        "    # e il punto j di samples\n",
        "    self.distances = cdist(samples, self.lookupTable, 'euclidean')\n",
        "\n",
        "\n",
        "    # ordiniamo in ordine crescente secondo la distanza\n",
        "    # argsort restituisce gli indici originali dell'array non ordinato, quindi\n",
        "    # tramite i primi k elementi otteniamo l'informazione su quali sono i corrispettivi \n",
        "    # indici per avere la lista ordinata\n",
        "\n",
        "    for e in range(len(samples)):\n",
        "      \n",
        "      k_indexes = (np.argsort(self.distances[e]))[:self.k]\n",
        "\n",
        "      # per ogni coppia (distanza, indice) nei primi k elementi di distances_ordinata prendiamo il secondo elemento (indice) e troviamo gli elementi\n",
        "      # della lookupTable che hanno quegli indici. Di questi elementi prendiamo solo la label\n",
        "      # (i valori del dizionario sono coppie (sample, label))\n",
        "      knn =  [self.labels.iloc[i] for i in k_indexes]\n",
        "\n",
        "\n",
        "      # calcolo la mediana tra i valori del knn \n",
        "      result.append(np.median(knn))\n",
        "\n",
        "    return result\n",
        "\n",
        "\n",
        "\n",
        "df = pd.read_csv(\"OnlineNewsPopularity/OnlineNewsPopularity.csv\")\n",
        "df = df.rename(columns=lambda x: x.strip())\n",
        "df = df.iloc[:, 2:]\n",
        "\n",
        "X = df.drop(\"shares\", axis=1) \n",
        "\n",
        "# y non deve essere reso binario poiché si tratta di un task di regressione e non di classificazione \n",
        "y = df[\"shares\"]\n",
        "\n",
        "X_train, X_test, y_train, y_test = train_test_split(X, y, test_size=0.2, random_state=1938214)\n",
        "scaler = StandardScaler()\n",
        "scaler.fit(X_train)\n",
        "X_train = scaler.transform(X_train)\n",
        "X_test = scaler.transform(X_test) \n",
        "\n",
        "reg = MyKNNRegressor(k = 5)\n",
        "reg.fit(X_train, y_train)\n",
        "\n",
        "y_pred = reg.predict(X_test)"
      ]
    },
    {
      "cell_type": "markdown",
      "metadata": {
        "id": "PKowAscEJclU"
      },
      "source": [
        "### Performance Regressione con KNN"
      ]
    },
    {
      "cell_type": "markdown",
      "metadata": {
        "id": "lLzAT-IdXnz-"
      },
      "source": [
        "**RMSE**:"
      ]
    },
    {
      "cell_type": "code",
      "execution_count": null,
      "metadata": {
        "colab": {
          "base_uri": "https://localhost:8080/"
        },
        "id": "5GQA2nU2Jc4c",
        "outputId": "fd10f0a1-4a79-420b-ee49-239e0831678e"
      },
      "outputs": [
        {
          "output_type": "stream",
          "name": "stdout",
          "text": [
            "RMSE: 11276.321256132678\n"
          ]
        }
      ],
      "source": [
        "rmse = math.sqrt(mean_squared_error(y_test, y_pred))\n",
        "print(\"RMSE:\", rmse)"
      ]
    },
    {
      "cell_type": "markdown",
      "metadata": {
        "id": "uwJpvkBsXpTQ"
      },
      "source": [
        "**MAE**:"
      ]
    },
    {
      "cell_type": "code",
      "execution_count": null,
      "metadata": {
        "colab": {
          "base_uri": "https://localhost:8080/"
        },
        "id": "Iz0-y1aeXqjI",
        "outputId": "0b4b59d5-b69e-4a0c-ef25-c3c79eefeab0"
      },
      "outputs": [
        {
          "output_type": "stream",
          "name": "stdout",
          "text": [
            "MAE: 2446.119561104805\n"
          ]
        }
      ],
      "source": [
        "mae = mean_absolute_error(y_test, y_pred)\n",
        "print(\"MAE:\", mae)"
      ]
    },
    {
      "cell_type": "markdown",
      "metadata": {
        "id": "Bc2DpZj6KPtG"
      },
      "source": [
        "### Confronto con sklearn"
      ]
    },
    {
      "cell_type": "code",
      "execution_count": null,
      "metadata": {
        "colab": {
          "base_uri": "https://localhost:8080/"
        },
        "id": "U6pTUUWfKRd-",
        "outputId": "e83062cd-0dfd-4cad-9a57-552b90a95014"
      },
      "outputs": [
        {
          "output_type": "stream",
          "name": "stdout",
          "text": [
            "RMSE: 11383.710617020139 \n",
            "\n",
            "MAE: 3051.7719510657084\n"
          ]
        }
      ],
      "source": [
        "from sklearn.neighbors import KNeighborsRegressor\n",
        "import sys\n",
        "import random\n",
        "import numpy as np\n",
        "import pandas as pd\n",
        "import math\n",
        "from sklearn.metrics import mean_squared_error\n",
        "from sklearn.model_selection import train_test_split\n",
        "from sklearn import datasets\n",
        "import matplotlib.pyplot as plt\n",
        "from sklearn.preprocessing import StandardScaler\n",
        "\n",
        "\n",
        "df = pd.read_csv(\"OnlineNewsPopularity/OnlineNewsPopularity.csv\")\n",
        "df = df.rename(columns=lambda x: x.strip())\n",
        "df = df.iloc[:, 2:]\n",
        "\n",
        "X = df.drop(\"shares\", axis=1) \n",
        "\n",
        "y = df[\"shares\"]\n",
        "\n",
        "\n",
        "X_train, X_test, y_train, y_test = train_test_split(X, y, test_size=0.2, random_state=1938214)\n",
        "scaler = StandardScaler()\n",
        "scaler.fit(X_train)\n",
        "X_train = scaler.transform(X_train)\n",
        "X_test = scaler.transform(X_test) \n",
        "\n",
        "reg = KNeighborsRegressor(n_neighbors = 5)\n",
        "reg.fit(X_train, y_train)\n",
        "\n",
        "y_pred = reg.predict(X_test)\n",
        "\n",
        "rmse = math.sqrt(mean_squared_error(y_test, y_pred))\n",
        "\n",
        "print(\"RMSE:\", rmse, \"\\n\")\n",
        "\n",
        "mae = mean_absolute_error(y_test, y_pred)\n",
        "print(\"MAE:\", mae)"
      ]
    },
    {
      "cell_type": "markdown",
      "metadata": {
        "id": "vCG3K4K7LFhu"
      },
      "source": [
        "# Quinto Modello: Rete Neurale\n",
        "Ho implementato un modello di rete neurale artificiale sia per il task di regressione che per classificazione. Il modello presenta un solo hidden layer. \n",
        "\n",
        "## Fase di Fast Forwarding:\n",
        "I dati vengono passati attraverso la rete e si predice un risultato. Le seguenti matrici sono prese in causa:\n",
        " - $A_0 = X$: di dimensione $p \\times n$.\n",
        " \n",
        " <br>\n",
        " \n",
        " - $W_1$: di dimensione $h \\times n$, è la matrice dei pesi tra il layer di input e il layer nascosto.\n",
        " \n",
        " <br>\n",
        " \n",
        " - $B_1$: di dimensione $1 \\times h$, è il vettore di bias dei neuroni del layer nascosto. \n",
        " \n",
        " <br>\n",
        " \n",
        " - $A_1 = \\alpha(X \\cdot W_1^T + B_1)$: di dimensione $p \\times h$, è la matrice di attivazione del layer nascosto, dove $\\alpha$ è la generica funzione di attivazione: ho scelto una **sigmoide** per il task di regressione e una **ReLu** per la classificazione.\n",
        " \n",
        " <br>\n",
        " \n",
        " - $W_2$: di dimensione $o \\times h$, è la matrice dei pesi tra il layer nascosto e il layer di output.\n",
        " \n",
        " <br>\n",
        " \n",
        " - $B_2$: di dimensione $1 \\times o$, è il vettore di bias dei neuroni di output. \n",
        "\n",
        " <br>\n",
        " \n",
        " - $A2 = \\alpha(A1 \\cdot W_2^T + B_2)$: di dimensione $p \\times o$, è la matrice di attivazione per il layer di output, dove $\\alpha$ è la generica funzione di attivazione: per il task di regressione è presente una **funzione di attivazione lineare**, mentre per il task di classificazione uso una **softmax**.\n",
        "\n",
        "<br> \n",
        "Con *p* numero di features, *n* numero di samples, *h* numero di neuroni dell'hidden layer e *o* numero di neuroni dell'output layer. *o* vale 1 nel caso di regressione, poiché ci restituisce il valore predetto, mentre vale 2, come il numero di classi, nel caso di classificazione.\n",
        "\n",
        "\n",
        "## Fase di Back Propagation\n",
        "Si calcola l'errore tra l'output prodotto e quello atteso. L'errore viene poi propagato all'indietro nella rete, in modo da determinare il contributo dei singoli pesi sull'errore complessivo della rete. SI usano poi queste informazioni per aggiornare i pesi nella direzione in cui l'errore viene minimizzato. Le seguenti matrici sono prese in causa:\n",
        "\n",
        " - $\\delta_2 = E\\alpha'_2$: mantiene le informazioni sulll'errore associato a ciascun neurone dell'ultimo layer. $E$ è l'errore complessivo mentre $\\alpha'_2$ è la derivata della funzione di attivazione per l'output layer.  \n",
        " \n",
        " <br>\n",
        " \n",
        " - $\\delta_1 = (\\delta_2 \\cdot W_2) \\alpha'_1$: mantiene le informazioni sulll'errore associato a ciascun neurone del layer nascosto. \n",
        " \n",
        " <br>\n",
        " \n",
        " - $dW_2 = \\delta_2^T \\cdot A_1$: mantiene le informazioni sulla variazione dei pesi tra l'hidden layer e l'output sapendo l'errore attribuibile allo strato di output. \n",
        " \n",
        " <br>\n",
        " \n",
        " - $dB_2 = \\sum \\delta_2$: calcola la variazione del bias dello strato di output sapendo l'errore attribuile a tale strato. \n",
        " \n",
        " <br>\n",
        " \n",
        " - $dW_1 = \\delta_1^T \\cdot X$: mantiene le informazioni sulla variazione dei pesi tra l'hidden layer e l'output sapendo l'errore attribuibile allo strato nascosto.\n",
        " \n",
        " <br>\n",
        " \n",
        " - $dB_1 = \\sum \\delta_1$: calcola la variazione del bias dello strato nascosto sapendo l'errore attribuibile a tale strato.\n",
        "\n",
        "<br> \n",
        "Le dimensioni di queste matrici sono riportate sotto forma di commenti nel codice, accanto alle istruzioni corrispondenti.\n",
        "\n",
        "<br> \n",
        "<hr> \n",
        "  \n",
        "Le due fasi sono ripetute un numero di epoche specificato da da epochs. **Gli iperparametri su cui sarebbe possibile fare hypertuning** (ma per evitare tempi di esecuzione troppo elevati ho deciso di non farlo) sono: alpha (learning rate), epoch (numero di iterazioni), h (numero di neuroni dell'hidden layer). Riscrivendo il codice per permettere più hidden layer, anche il numero di strati nascosti sarebbe un iperparametro."
      ]
    },
    {
      "cell_type": "markdown",
      "metadata": {
        "id": "I80Qa2ZiLLgr"
      },
      "source": [
        "## Regressione con Rete Neurale"
      ]
    },
    {
      "cell_type": "code",
      "execution_count": null,
      "metadata": {
        "colab": {
          "base_uri": "https://localhost:8080/"
        },
        "id": "t2i4Pyb6LNqJ",
        "outputId": "96fd12b0-0acc-4da1-8b33-177012e56912"
      },
      "outputs": [
        {
          "output_type": "stream",
          "name": "stdout",
          "text": [
            "Epoch: 0 rmse: 12207.688129632803\n",
            "Epoch: 100 rmse: 12207.344562127755\n",
            "Epoch: 200 rmse: 12207.00042784271\n",
            "Epoch: 300 rmse: 12206.65570342544\n",
            "Epoch: 400 rmse: 12206.310367089945\n",
            "Epoch: 500 rmse: 12205.964461518231\n",
            "Epoch: 600 rmse: 12205.617917195841\n",
            "Epoch: 700 rmse: 12205.270711640458\n",
            "Epoch: 800 rmse: 12204.922814076861\n",
            "Epoch: 900 rmse: 12204.57418580083\n"
          ]
        }
      ],
      "source": [
        "import math\n",
        "import numpy as np\n",
        "import pandas as pd\n",
        "from sklearn.metrics import mean_squared_error\n",
        "from sklearn.neural_network import MLPRegressor\n",
        "from sklearn.model_selection import train_test_split\n",
        "import random\n",
        "import math\n",
        "from sklearn.preprocessing import StandardScaler\n",
        "\n",
        "\n",
        "def sigmoid(x):\n",
        "    return 1 / (1 + np.exp(-x))\n",
        "\n",
        "\n",
        "# data preprocessing\n",
        "df = pd.read_csv(\"OnlineNewsPopularity/OnlineNewsPopularity.csv\")\n",
        "df = df.rename(columns=lambda x: x.strip())\n",
        "df = df.iloc[:, 2:]\n",
        "\n",
        "X = df.drop(\"shares\", axis=1) \n",
        "\n",
        "y = df[\"shares\"]\n",
        "\n",
        "\n",
        "X_train, X_test, y_train, y_test = train_test_split(X, y, test_size=0.2, random_state=1938214)\n",
        "scaler = StandardScaler()\n",
        "scaler.fit(X_train)\n",
        "X_train = scaler.transform(X_train)\n",
        "X_test = scaler.transform(X_test) \n",
        "\n",
        "\n",
        "alpha = 0.01\n",
        "epochs = 1000 # numero di iterazioni\n",
        "h = 116 # numero di neuroni dell'hidden layer\n",
        "n = X_train.shape[1] # numero di samples dati in input alla rete\n",
        "p = X_train.shape[0] # numero di neuroni nell'input layer, uguali al numero di features\n",
        "n_output = 1 # un neurone finale nell'output layer ci darà il valore predetto \n",
        "\n",
        "# imposto il seed in modo da avere numeri deterministici e ottenere\n",
        "# quindi sempre le stesse prestazioni sul modello\n",
        "# in questo modo posso confrontare correttamente i modelli tra di loro \n",
        "np.random.seed(1938214)\n",
        "\n",
        "W1 = np.random.rand(h, n) # vettore dei pesi utilizzato tra l'input layer e l'hidden layer\n",
        "b1 = np.random.rand(1, h) # bias associato a W1 \n",
        "W2 = np.random.rand(n_output, h) # vettore dei pesi utilizzato tra l'hidden layer e l'output layer\n",
        "b2 = np.random.rand(1, n_output) # bias associato a W2\n",
        "\n",
        "\n",
        "for i in range(epochs):\n",
        "\n",
        "  ################################ FEED FORWARD ###########################################################\n",
        " \n",
        "  # per far tornare dimensionalmente i calcoli matriciali\n",
        "  # grazie a tile() b1_tiled è una matrice in cui ogni riga è una copia di b1\n",
        "  b1_tiled = np.tile(b1, (p, 1)) # p x h\n",
        "  b2_tiled = np.tile(b2, (p, 1)) # p x n_output\n",
        "\n",
        "  # funzione d'attivazione lineare per l'hidden layer\n",
        "  A1 = sigmoid(np.dot(X_train, W1.T) + b1_tiled) # p x h\n",
        "\n",
        "  # funzione d'attivazione lineare per l'output\n",
        "  A2 = np.dot(A1, W2.T) + b2_tiled # p x n_outputs\n",
        "\n",
        "  y_pred = A2\n",
        "\n",
        "  ############################### BACK PROPAGATION ########################################################\n",
        "\n",
        "  # la derivata di una funzione lineare è una costante\n",
        "  linear_derivative_A2 = 1\n",
        "  # questa è invece la derivata della funzione sigmoide\n",
        "  sigmoid_derivative_A1 = sigmoid(A1) * (1 - sigmoid(A1))\n",
        "\n",
        "  # calcolo dell'errore\n",
        "  error = np.array(A2) - np.reshape(np.array(y_train), (X_train.shape[0], 1))\n",
        "\n",
        "\n",
        "  # utilizzo np.clip per limitare i valori ed evitare l'overflow\n",
        "  threshold = 1e-6 # th per il clipping\n",
        "\n",
        "  # error è l'errore complessivo della rete, quindi delta2 va a calcolare \n",
        "  # quanto dell'errore complessivo è imputabile ai neuroni dell'output layer \n",
        "  delta2 = np.clip(np.multiply(error, linear_derivative_A2), -threshold, threshold) # p x n_output\n",
        "  # delta1: quanto dell'errore complessivo è imputabile ai neuroni dell'hidden layer \n",
        "  delta1 = np.clip(np.multiply(np.dot(delta2, W2), sigmoid_derivative_A1), -threshold, threshold) # p x h\n",
        "  \n",
        "  # variazione dei pesi e dei bias rispetto agli strati\n",
        "  dW2 = np.dot(delta2.T, A1) # n_output x h\n",
        "  db2 = np.sum(delta2, axis=0, keepdims=True) # p x n_output\n",
        "  dW1 = np.dot(delta1.T, X_train) # h x n\n",
        "  db1 = np.sum(delta1, axis=0, keepdims=True) # p x h\n",
        "\n",
        "  # Aggiornamento dei pesi e dei bias\n",
        "  W2 = W2 - alpha * dW2\n",
        "  b2 = b2 - alpha * db2\n",
        "  W1 = W1 - alpha * dW1\n",
        "  b1 = b1 - alpha * db1\n",
        "\n",
        "  b1_tiled = np.tile(b1, (p, 1))\n",
        "  b2_tiled = np.tile(b2, (p, 1))\n",
        "\n",
        "  # Calcolo dell'errore di training\n",
        "  y_pred = np.dot(sigmoid(np.dot(X_train, W1.T) + b1_tiled), W2.T) + b2_tiled\n",
        "  error = math.sqrt(mean_squared_error(y_train, y_pred))\n",
        "\n",
        "\n",
        "  # Stampa dell'errore di training ogni 100 epoche\n",
        "  if i % 100 == 0:\n",
        "      print(\"Epoch:\", i, \"rmse:\", error)\n",
        "\n",
        "\n",
        "\n",
        "b1_tiled = np.tile(b1, (X_test.shape[0], 1))\n",
        "b2_tiled = np.tile(b2, (X_test.shape[0], 1))\n",
        "\n",
        "A1_test = sigmoid(np.dot(X_test, W1.T) + b1_tiled)\n",
        "A2_test = np.dot(A1_test, W2.T) + b2_tiled\n",
        "\n",
        "y_pred_test = A2_test"
      ]
    },
    {
      "cell_type": "markdown",
      "metadata": {
        "id": "eO_zKzWOLbwl"
      },
      "source": [
        "### Performance Regressione con Rete Neurale"
      ]
    },
    {
      "cell_type": "markdown",
      "metadata": {
        "id": "85bLb1zmX6g5"
      },
      "source": [
        "**RMSE**:"
      ]
    },
    {
      "cell_type": "code",
      "execution_count": null,
      "metadata": {
        "colab": {
          "base_uri": "https://localhost:8080/"
        },
        "id": "F3GV0JtRLeXO",
        "outputId": "759418db-0659-45d7-a8cf-6255de90adbc"
      },
      "outputs": [
        {
          "output_type": "stream",
          "name": "stdout",
          "text": [
            "RMSE: 11669.312473670283\n"
          ]
        }
      ],
      "source": [
        "error = math.sqrt(mean_squared_error(y_test, y_pred_test))\n",
        "print(\"RMSE:\", error)"
      ]
    },
    {
      "cell_type": "markdown",
      "metadata": {
        "id": "f9ncKlMPX7k0"
      },
      "source": [
        "**MAE**:"
      ]
    },
    {
      "cell_type": "code",
      "execution_count": null,
      "metadata": {
        "colab": {
          "base_uri": "https://localhost:8080/"
        },
        "id": "JsSRonbEX9PJ",
        "outputId": "5318bb57-5780-4471-8253-3f0bea70384b"
      },
      "outputs": [
        {
          "output_type": "stream",
          "name": "stdout",
          "text": [
            "MAE: 3304.4193870175054\n"
          ]
        }
      ],
      "source": [
        "mae = mean_absolute_error(y_test, y_pred_test)\n",
        "print(\"MAE:\", mae)"
      ]
    },
    {
      "cell_type": "markdown",
      "metadata": {
        "id": "A7Pypzm-Lg4V"
      },
      "source": [
        "### Confronto con sklearn"
      ]
    },
    {
      "cell_type": "code",
      "execution_count": null,
      "metadata": {
        "colab": {
          "base_uri": "https://localhost:8080/"
        },
        "id": "GkJ86TDXLiGs",
        "outputId": "5112ff4a-3092-48bf-c379-bb05714b1c6b"
      },
      "outputs": [
        {
          "output_type": "stream",
          "name": "stdout",
          "text": [
            "RMSE: 11063.14570617453\n",
            "\n",
            "\n",
            "MAE: 3132.0986594491533\n"
          ]
        }
      ],
      "source": [
        "import math\n",
        "import numpy as np\n",
        "import pandas as pd\n",
        "from sklearn.metrics import mean_squared_error\n",
        "from sklearn.neural_network import MLPRegressor\n",
        "from sklearn.model_selection import train_test_split\n",
        "\n",
        "\n",
        "df = pd.read_csv(\"OnlineNewsPopularity/OnlineNewsPopularity.csv\")\n",
        "df = df.rename(columns=lambda x: x.strip())\n",
        "df = df.iloc[:, 2:]\n",
        "\n",
        "X = df.drop(\"shares\", axis=1) \n",
        "\n",
        "y = df[\"shares\"]\n",
        "\n",
        "\n",
        "X_train, X_test, y_train, y_test = train_test_split(X, y, test_size=0.2, random_state=1938214)\n",
        "scaler = StandardScaler()\n",
        "scaler.fit(X_train)\n",
        "X_train = scaler.transform(X_train)\n",
        "X_test = scaler.transform(X_test) \n",
        "\n",
        "\n",
        "reg = MLPRegressor(hidden_layer_sizes = 60, activation = 'logistic', learning_rate_init = 0.1, random_state = 0, max_iter = 1000)\n",
        "reg = reg.fit(X_train, y_train)\n",
        "\n",
        "y_pred = reg.predict(X_test)\n",
        "\n",
        "print(\"RMSE:\", math.sqrt(mean_squared_error(y_test, y_pred)))\n",
        "\n",
        "print(\"\\n\")\n",
        "\n",
        "mae = mean_absolute_error(y_test, y_pred)\n",
        "print(\"MAE:\", mae)"
      ]
    },
    {
      "cell_type": "markdown",
      "metadata": {
        "id": "w8k8BYYSLOHU"
      },
      "source": [
        "## Classificazione con Rete Neurale\n",
        "\n",
        "### One-Hot Encoding: \n",
        "Avendo due neuroni nell'output layer, dobbiamo trasformare Y in una matrice $\\times$ 2. Per farlo, utilizziamo la tecnica di One-Hot Encoding. Nel One-Hot Encoding, ogni colonna rappresenta una classe, e per ogni sample (sulle righe) la colonna associata alla classe del sample contiene 1, mentre tutte le altre 0. Ad esempio, se esistono sono due classi (0 ed 1) e Y vale\n",
        "\n",
        "\\begin{equation}\n",
        "Y = \\begin{bmatrix}\n",
        "    1 & 0 & 0 & 1 & 1 & 0\\\\\n",
        "    \\end{bmatrix}\n",
        "\\end{equation}\n",
        " \n",
        "allora dopo il one-hot encoding avremo\n",
        "\n",
        "\\begin{equation}\n",
        "Y = \\begin{bmatrix}\n",
        "    0 & 1\\\\\n",
        "    1 & 0\\\\\n",
        "    1 & 0\\\\\n",
        "    0 & 1\\\\\n",
        "    0 & 1\\\\\n",
        "    1 & 0\\\\\n",
        "    \\end{bmatrix}\n",
        "\\end{equation}\n",
        "\n",
        "<br>\n",
        "\n",
        "Fatto One-Hot Encoding, possiamo confrontare Y con $A_2$, ottenuta con una funzione di attivazione **softmax**, che restituisce per ogni sample un vettore di lunghezza pari al numero delle classi. Questo vettore presenta in posizione i la probabilità del sample di appartenere alla classe i. \n",
        "\n",
        "<br>\n",
        "\n",
        "Nota: Y viene trasposta nel codice per come ho scritto le formule per feed-forwarding e back-propagation. "
      ]
    },
    {
      "cell_type": "code",
      "execution_count": null,
      "metadata": {
        "colab": {
          "base_uri": "https://localhost:8080/"
        },
        "id": "870196vILQ6x",
        "outputId": "d1a4f329-b8a8-4b02-8908-6a538d2fd2bb"
      },
      "outputs": [
        {
          "output_type": "stream",
          "name": "stdout",
          "text": [
            "Iteration:  0\n",
            "accuracy: 0.4594986599400914\n",
            "Iteration:  100\n",
            "accuracy: 0.6138735614062746\n",
            "Iteration:  200\n",
            "accuracy: 0.6358820747280467\n",
            "Iteration:  300\n",
            "accuracy: 0.6459088759262179\n",
            "Iteration:  400\n",
            "accuracy: 0.6505123758473909\n",
            "Iteration:  500\n",
            "accuracy: 0.6537915812706921\n",
            "Iteration:  600\n",
            "accuracy: 0.655368122339587\n",
            "Iteration:  700\n",
            "accuracy: 0.6583004887277314\n",
            "Iteration:  800\n",
            "accuracy: 0.6481160334226707\n",
            "Iteration:  900\n",
            "accuracy: 0.6584266120132429\n"
          ]
        }
      ],
      "source": [
        "import numpy as np\n",
        "import pandas as pd\n",
        "from matplotlib import pyplot as plt\n",
        "\n",
        "# data preprocessing\n",
        "df = pd.read_csv(\"OnlineNewsPopularity/OnlineNewsPopularity.csv\")\n",
        "df = df.rename(columns=lambda x: x.strip())\n",
        "df = df.iloc[:, 2:]\n",
        "\n",
        "X = df.drop(\"shares\", axis=1) \n",
        "\n",
        "y = df[\"shares\"].apply(lambda x: 1 if x >= 1400 else 0)\n",
        "\n",
        "\n",
        "X_train, X_test, y_train, y_test = train_test_split(X, y, test_size=0.2, random_state=1938214)\n",
        "scaler = StandardScaler()\n",
        "scaler.fit(X_train)\n",
        "X_train = scaler.transform(X_train)\n",
        "X_test = scaler.transform(X_test) \n",
        "\n",
        "\n",
        "\n",
        "alpha = 0.1\n",
        "epochs = 1000\n",
        "h = 116 \n",
        "n = X_train.shape[1]\n",
        "p = X_train.shape[0]\n",
        "n_output = 2 # 2 neuroni nell'output layer, dobbiamo quindi fare\n",
        "# one-hot encoding di Y per trasformarla in una (n x 2) \n",
        "\n",
        "# trasposizione per far tornare dimensionalmente i calcoli matriciali\n",
        "# dato che ho usaato una versione diversa delle formule per il feed forward \n",
        "# e back propagation\n",
        "X_train = X_train.T\n",
        "X_test = X_test.T\n",
        "\n",
        "y_train = y_train.T\n",
        "y_test = y_test.T\n",
        "\n",
        "def init_params():\n",
        "\n",
        "    # imposto un seed in modo da avere numeri deterministici \n",
        "    # in questo modo ho per ogni esecuzione le stesse prestazioni\n",
        "    # e posso effettuare un confronto tra modelli correttamente\n",
        "    np.random.seed(1938214)\n",
        "\n",
        "    # pesi inizializzati random\n",
        "    W1 = np.random.rand(h, n) - 0.5\n",
        "    b1 = np.random.rand(h, 1) - 0.5\n",
        "    W2 = np.random.rand(n_output, h) - 0.5\n",
        "    b2 = np.random.rand(n_output, 1) - 0.5\n",
        "    return W1, b1, W2, b2\n",
        "\n",
        "# prima funzione di attivazione\n",
        "def ReLU(Z):\n",
        "    return np.maximum(Z, 0)\n",
        "\n",
        "# seconda funzione di attivazione\n",
        "# la funzione softmax restituisce un vettore di lunghezza pari al numero di \n",
        "# classi. In posizione i c'è la probabilità del sample di appartenere alla \n",
        "# classe i. \n",
        "# Poiché lo facciamo insieme per tutti i sample, nel nostro caso  avremo una\n",
        "# matrice di dimensioni (2, numero_samples)\n",
        "def softmax(Z):\n",
        "    A = np.exp(Z) / sum(np.exp(Z))\n",
        "    return A\n",
        "\n",
        "def forward_prop(W1, b1, W2, b2, X):\n",
        "   \n",
        "    Z1 = W1.dot(X) + b1\n",
        "    A1 = ReLU(Z1)\n",
        "\n",
        "    Z2 = W2.dot(A1) + b2\n",
        "\n",
        "    A2 = softmax(Z2)\n",
        "\n",
        "    return Z1, A1, Z2, A2\n",
        "\n",
        "def ReLU_deriv(Z):\n",
        "    return Z > 0\n",
        "\n",
        "\n",
        "def one_hot(Y):\n",
        "    # one_hot_Y è ora una matrice di zeri di dimensioni Y.size x 2\n",
        "    one_hot_Y = np.zeros((Y.size, Y.max() + 1))\n",
        "    \n",
        "    # per ogni sample, mettiamo 1 sulla colonna associata alla classe a cui \n",
        "    # appartiene, e 0 nell'altra\n",
        "    # ad esempio, np.arange(Y.size) = [0, 1, 2, ....], Y = [1, 0, 0, 1, 1, 0, ...], \n",
        "    # allora one_hot_Y presenta 1 in posizione [0,1], [1, 0], [2,0], ...\n",
        "    # e 0 in tutti gli altri posti\n",
        "    one_hot_Y[np.arange(Y.size), Y] = 1\n",
        "\n",
        "    #trasponiamo la matrice\n",
        "    one_hot_Y = one_hot_Y.T\n",
        "    return one_hot_Y\n",
        "\n",
        "\n",
        "def backward_prop(Z1, A1, Z2, A2, W1, W2, X, Y):\n",
        "\n",
        "    one_hot_Y = one_hot(Y)\n",
        "    # quanto dista la nostra previsione dalla ground truth\n",
        "    dZ2 = A2 - one_hot_Y    \n",
        "    dW2 = (1 / p) * dZ2.dot(A1.T)\n",
        "    db2 = (1 / p) * np.sum(dZ2)\n",
        "\n",
        "  \n",
        "    dZ1 = W2.T.dot(dZ2) * ReLU_deriv(Z1)\n",
        "    dW1 = 1 / p * dZ1.dot(X.T)\n",
        "    db1 = 1 / p * np.sum(dZ1)\n",
        "    return dW1, db1, dW2, db2\n",
        "\n",
        "def update_params(W1, b1, W2, b2, dW1, db1, dW2, db2, alpha):\n",
        "    W1 = W1 - alpha * dW1\n",
        "    b1 = b1 - alpha * db1    \n",
        "    W2 = W2 - alpha * dW2  \n",
        "    b2 = b2 - alpha * db2    \n",
        "    return W1, b1, W2, b2\n",
        "\n",
        "\n",
        "def get_predictions(A2):\n",
        "    # ritorniamo la classe che con la softmax è risultata\n",
        "    # essere quella più probabile\n",
        "    return np.argmax(A2, 0)\n",
        "\n",
        "def get_accuracy(predictions, Y):\n",
        "    return np.sum(predictions == Y) / Y.size\n",
        "\n",
        "\n",
        "# Z è la matrice A prima di applicare la funzione di attivazione\n",
        "def gradient_descent(X, Y, alpha, iterations):\n",
        "    W1, b1, W2, b2 = init_params()\n",
        "    for i in range(iterations):\n",
        "        Z1, A1, Z2, A2 = forward_prop(W1, b1, W2, b2, X)\n",
        "        dW1, db1, dW2, db2 = backward_prop(Z1, A1, Z2, A2, W1, W2, X, Y)\n",
        "        W1, b1, W2, b2 = update_params(W1, b1, W2, b2, dW1, db1, dW2, db2, alpha)\n",
        "        if i % 100 == 0:\n",
        "            print(\"Iteration: \", i)\n",
        "            predictions = get_predictions(A2)\n",
        "            print(\"accuracy:\", get_accuracy(predictions, Y))\n",
        "    return W1, b1, W2, b2\n",
        "\n",
        "\n",
        "def test_prediction(X, W1, b1, W2, b2):\n",
        "\n",
        "    # mi interessa solo A2\n",
        "    _, _, _, A2 = forward_prop(W1, b1, W2, b2, X)\n",
        "\n",
        "    predictions = get_predictions(A2)\n",
        "    return predictions\n",
        "\n",
        "\n",
        "W1, b1, W2, b2 = gradient_descent(X_train, y_train, alpha, epochs)\n",
        "\n",
        "y_previste = test_prediction(X_test, W1, b1, W2, b2)"
      ]
    },
    {
      "cell_type": "markdown",
      "metadata": {
        "id": "r-2fPnm1Lrri"
      },
      "source": [
        "### Prestazioni Classificazione con Rete Neurale"
      ]
    },
    {
      "cell_type": "markdown",
      "metadata": {
        "id": "Cn2yUSnAF43_"
      },
      "source": [
        "**Accuracy**: \n"
      ]
    },
    {
      "cell_type": "code",
      "execution_count": null,
      "metadata": {
        "colab": {
          "base_uri": "https://localhost:8080/"
        },
        "id": "cVIJ3sm5F43_",
        "outputId": "2bbd677c-0219-4b5b-aac5-9b765492a79f"
      },
      "outputs": [
        {
          "output_type": "stream",
          "name": "stdout",
          "text": [
            "acc: 0.6567032412662379\n"
          ]
        }
      ],
      "source": [
        "acc = accuracy_score(y_test, y_previste)\n",
        "print(\"acc:\", acc)"
      ]
    },
    {
      "cell_type": "markdown",
      "metadata": {
        "id": "9KvGG3cUF43_"
      },
      "source": [
        "**Confusion Matrix**:"
      ]
    },
    {
      "cell_type": "code",
      "execution_count": null,
      "metadata": {
        "colab": {
          "base_uri": "https://localhost:8080/",
          "height": 454
        },
        "id": "k1g5tJ2lF44A",
        "outputId": "743c1f0b-de7b-494a-9b3e-eeaaac365c5b"
      },
      "outputs": [
        {
          "output_type": "display_data",
          "data": {
            "text/plain": [
              "<Figure size 640x480 with 1 Axes>"
            ],
            "image/png": "[encoded data removed]"
          },
          "metadata": {}
        }
      ],
      "source": [
        "def plot_cm(data):\n",
        "  fig, ax = plt.subplots()\n",
        "  ax.matshow(data, cmap='Reds')\n",
        "  for (i, j), z in np.ndenumerate(data):\n",
        "    ax.text(j, i, '{0:0.1f}'.format(z), ha='center', va='center')\n",
        "  plt.xlabel(\"y_pred\")\n",
        "  plt.ylabel(\"y_true\")\n",
        "  plt.show()\n",
        "\n",
        "cm = confusion_matrix(y_test, y_previste)\n",
        "plot_cm(cm)"
      ]
    },
    {
      "cell_type": "markdown",
      "metadata": {
        "id": "hiaAY-1SF44A"
      },
      "source": [
        "**Precision**, **Recall** e **F1 Score**"
      ]
    },
    {
      "cell_type": "code",
      "execution_count": null,
      "metadata": {
        "colab": {
          "base_uri": "https://localhost:8080/"
        },
        "id": "wJHVFhD1F44A",
        "outputId": "cf66ba77-17bf-4176-a01b-b5c187122f78"
      },
      "outputs": [
        {
          "output_type": "stream",
          "name": "stdout",
          "text": [
            "Precision: 0.655689133491429\n",
            "Recall: 0.6567032412662379\n",
            "F1 Score: 0.653366320815679\n"
          ]
        }
      ],
      "source": [
        "from sklearn.metrics import precision_recall_fscore_support\n",
        "\n",
        "\n",
        "precision, recall, f1_score, _ = precision_recall_fscore_support(y_test, y_previste, average='weighted')\n",
        "\n",
        "print('Precision:', precision)\n",
        "print('Recall:', recall)\n",
        "print('F1 Score:', f1_score)"
      ]
    },
    {
      "cell_type": "markdown",
      "metadata": {
        "id": "xSHnWCoUF44A"
      },
      "source": [
        "**ROC Curve**:"
      ]
    },
    {
      "cell_type": "code",
      "execution_count": null,
      "metadata": {
        "colab": {
          "base_uri": "https://localhost:8080/",
          "height": 472
        },
        "id": "1eGO9zNlF44A",
        "outputId": "2e2d68f3-e0c8-41d1-d7ef-d77953d4fc72"
      },
      "outputs": [
        {
          "output_type": "display_data",
          "data": {
            "text/plain": [
              "<Figure size 640x480 with 1 Axes>"
            ],
            "image/png": "[encoded data removed]"
          },
          "metadata": {}
        }
      ],
      "source": [
        "from sklearn.metrics import roc_curve, auc\n",
        "\n",
        "fpr, tpr, thresholds = roc_curve(y_test, y_previste)\n",
        "\n",
        "roc_auc = auc(fpr, tpr)\n",
        "\n",
        "plt.plot(fpr, tpr, color='darkorange', lw=2, label='ROC curve (area = %0.3f)' % roc_auc)\n",
        "plt.plot([0, 1], [0, 1], color='navy', lw=2, linestyle='--')\n",
        "plt.xlim([0.0, 1.0])\n",
        "plt.ylim([0.0, 1.05])\n",
        "plt.xlabel('False Positive Rate')\n",
        "plt.ylabel('Recall (True Positive Rate)')\n",
        "plt.title('Receiver Operating Characteristic (ROC) Curve')\n",
        "plt.legend(loc=\"lower right\")\n",
        "plt.show()"
      ]
    },
    {
      "cell_type": "markdown",
      "metadata": {
        "id": "rBM0uNLZLoT-"
      },
      "source": [
        "### Confronto con sklearn"
      ]
    },
    {
      "cell_type": "code",
      "execution_count": null,
      "metadata": {
        "colab": {
          "base_uri": "https://localhost:8080/",
          "height": 1000
        },
        "id": "QZ5gytppLo8Y",
        "outputId": "4eb1a37e-f876-4d22-8d2b-5d0072a6f446"
      },
      "outputs": [
        {
          "output_type": "stream",
          "name": "stdout",
          "text": [
            "accuracy: 0.6263084878294867\n",
            "\n",
            "\n"
          ]
        },
        {
          "output_type": "display_data",
          "data": {
            "text/plain": [
              "<Figure size 640x480 with 1 Axes>"
            ],
            "image/png": "[encoded data removed]"
          },
          "metadata": {}
        },
        {
          "output_type": "stream",
          "name": "stdout",
          "text": [
            "\n",
            "\n",
            "Precision: 0.6325915865670657\n",
            "Recall: 0.6263084878294867\n",
            "F1 Score: 0.6080289680890696\n",
            "\n",
            "\n"
          ]
        },
        {
          "output_type": "display_data",
          "data": {
            "text/plain": [
              "<Figure size 640x480 with 1 Axes>"
            ],
            "image/png": "[encoded data removed]"
          },
          "metadata": {}
        }
      ],
      "source": [
        "import math\n",
        "import numpy as np\n",
        "import pandas as pd\n",
        "from sklearn.metrics import accuracy_score\n",
        "from sklearn.neural_network import MLPClassifier\n",
        "from sklearn.model_selection import train_test_split\n",
        "from sklearn.preprocessing import StandardScaler\n",
        "\n",
        "\n",
        "df = pd.read_csv(\"OnlineNewsPopularity/OnlineNewsPopularity.csv\")\n",
        "df = df.rename(columns=lambda x: x.strip())\n",
        "df = df.iloc[:, 2:]\n",
        "\n",
        "X = df.drop(\"shares\", axis=1) \n",
        "\n",
        "y = df[\"shares\"].apply(lambda x: 1 if x >= 1400 else 0)\n",
        "\n",
        "\n",
        "X_train, X_test, y_train, y_test = train_test_split(X, y, test_size=0.2, random_state=1938214)\n",
        "scaler = StandardScaler()\n",
        "scaler.fit(X_train)\n",
        "X_train = scaler.transform(X_train)\n",
        "X_test = scaler.transform(X_test) \n",
        "\n",
        "\n",
        "reg = MLPClassifier(hidden_layer_sizes = 116, activation = 'logistic', learning_rate_init = 0.1, random_state = 0, max_iter = 1000)\n",
        "reg = reg.fit(X_train, y_train)\n",
        "\n",
        "y_pred = reg.predict(X_test)\n",
        "\n",
        "acc = accuracy_score(y_test, y_pred)\n",
        "print(\"accuracy:\", acc)\n",
        "\n",
        "print(\"\\n\")\n",
        "\n",
        "def plot_cm(data):\n",
        "  fig, ax = plt.subplots()\n",
        "  ax.matshow(data, cmap='Reds')\n",
        "  for (i, j), z in np.ndenumerate(data):\n",
        "    ax.text(j, i, '{0:0.1f}'.format(z), ha='center', va='center')\n",
        "  plt.xlabel(\"y_pred\")\n",
        "  plt.ylabel(\"y_true\")\n",
        "  plt.show()\n",
        "\n",
        "cm = confusion_matrix(y_test, y_pred)\n",
        "plot_cm(cm)\n",
        "\n",
        "print(\"\\n\")\n",
        "\n",
        "precision, recall, f1_score, _ = precision_recall_fscore_support(y_test, y_pred, average='weighted')\n",
        "\n",
        "print('Precision:', precision)\n",
        "print('Recall:', recall)\n",
        "print('F1 Score:', f1_score)\n",
        "\n",
        "print(\"\\n\")\n",
        "\n",
        "fpr, tpr, thresholds = roc_curve(y_test, y_pred)\n",
        "\n",
        "roc_auc = auc(fpr, tpr)\n",
        "\n",
        "plt.plot(fpr, tpr, color='darkorange', lw=2, label='ROC curve (area = %0.2f)' % roc_auc)\n",
        "plt.plot([0, 1], [0, 1], color='navy', lw=2, linestyle='--')\n",
        "plt.xlim([0.0, 1.0])\n",
        "plt.ylim([0.0, 1.05])\n",
        "plt.xlabel('False Positive Rate')\n",
        "plt.ylabel('Recall (True Positive Rate)')\n",
        "plt.title('Receiver Operating Characteristic (ROC) Curve')\n",
        "plt.legend(loc=\"lower right\")\n",
        "plt.show()"
      ]
    },
    {
      "cell_type": "markdown",
      "metadata": {
        "id": "nBqnjOjUZ9Wx"
      },
      "source": [
        "# **Conclusioni**:\n",
        "Di seguito le prestazioni dei modelli. Qualsiasi randomizzazione nei codici delle mie implementazioni (es. inizializzazione pesi per linear regression e neural network) è stata resa deterministica per effettuare correttamente i confronti.\n",
        "\n",
        "<br>\n",
        "\n",
        "**NOTA I**: ho notato che il seed che ho scelto (1938214) dà delle performance più basse rispetto a altri seed che ho provato. Ad esempio con 1234 gli RMSE dei modelli sono nell'intervallo [7000, 8000], invece con 1938214 hanno valori di RMSE di circa 11000. \n",
        "\n",
        "\n",
        "**NOTA II**: data la difficoltà del dataset, le prestazioni dei modelli non sono eccellenti. \n",
        "\n",
        "\n",
        "<br>\n",
        "\n",
        "### Per il task di Classificazione:\n",
        "\n",
        "- DT (con hypertuning):\n",
        "        acc = 0.6370\n",
        "        cm = [2122, 1521, 1357, 2929]\n",
        "        precision = 0.6360\n",
        "        recall = 0.6370\n",
        "        F1 Score = 0.6362\n",
        "        AUC = 0.63\n",
        "\n",
        "- Linear Classifier:\n",
        "        acc = 0.5896\n",
        "        cm = [2010, 1633, 1621, 2665]\n",
        "        precision = 0.5895\n",
        "        recall = 0.5896\n",
        "        F1 Score = 0.5895\n",
        "        AUC = 0.59\n",
        "\n",
        "- Logistic Regression:\n",
        "        acc = 0.6515\n",
        "        cm = [2177, 1466, 1297, 2989]\n",
        "        precision = 0.6505\n",
        "        recall = 0.6515\n",
        "        F1 Score = 0.6507\n",
        "        AUC = 0.647\n",
        "\n",
        "- KNN Classifier:\n",
        "        acc = 0.6143\n",
        "        cm = [2230, 1413, 1645, 2641]\n",
        "        precision = 0.6165\n",
        "        recall = 0.6143\n",
        "        F1 Score = 0.6149\n",
        "        AUC = 0.61\n",
        "\n",
        "- NN Classifier:\n",
        "        acc = 0.6567\n",
        "        cm = [2024, 1619, 1103, 3183]\n",
        "        precision = 0.6556\n",
        "        recall = 0.6567\n",
        "        F1 Score = 0.6533\n",
        "        AUC = 0.649\n",
        "\n",
        "**Il modello con le prestazioni migliori è la rete neurale**, in quanto ha accuracy e AUC più alti. Notare che il tuning degli iperparametri è stato fatto solo sull'albero di decisione, al fine di abbattere il tempo di esecuzione complessivo dei codici. Suppongo che, facendo hypertuning su tutti i modelli, il modello con le prestazioni migliori sarebbe rimasto la NN, ma con un distacco maggiore dal secondo. \n",
        "\n",
        "<br>\n",
        "\n",
        "<hr>\n",
        "\n",
        "<br>\n",
        "\n",
        "### Per il task di Regressione:\n",
        "\n",
        "- Linear Regression senza Regolarizzazione:\n",
        "        RMSE: 11056.947580534314\n",
        "        MAE: 3002.706806499301\n",
        "\n",
        "- Linear Regression Reg L1:\n",
        "        RMSE: 11056.947572330879\n",
        "        MAE: 3002.7066447691373\n",
        "\n",
        "- Linear Regression Reg L2:\n",
        "        RMSE: 11056.947080925454\n",
        "        MAE: 3002.676142419405\n",
        "\n",
        "- Linear Regression Elastic Net:\n",
        "        RMSE: 11066.61479174224\n",
        "        MAE: 3013.0991700651603\n",
        "\n",
        "- KNN for Regression:\n",
        "        RMSE: 11276.32\n",
        "        MAE: 2446.11\n",
        "\n",
        "- NN for Regression:\n",
        "        RMSE: 11669.3124\n",
        "        MAE: 3304.4193\n",
        "\n",
        "Si nota che, per la maggior parte dei modelli, le differenze prestazionali non sono così accentuate, ma ritengo valga comunque la pena discuterne: il modello con RMSE minore è la Linear Regression con Regolarizzazione L2 (Ridge Regression), mentre il KNN presenta il MAE minore. Considero, nel nostro specifico caso, il **KNN come la scelta migliore**. I motivi sono due:\n",
        "\n",
        "<br>\n",
        "\n",
        "- Il MAE è, nel nostro caso, la metrica da preferire. L'RMSE è utile se ci interessa ridurre gli outlier e penalizzare i grandi errori rispetto a quelli piccoli. D'altra parte il MAE ha una formula più intuitiva ed è quindi più facilmente interpretabile dall'essere umano, perciò se non è così importante essere \"sensibili\" a grandi errori, ma si vogliono comunicare efficacemente le prestazioni, KNN potrebbe essere preferibile. Nel nostro caso, trattandosi di previsione di _shares_ di articoli di notizie e pensando alle possibili applicazioni reali di tale task, ritengo sia più importante l'interpretabilità dei risultati. Per altre applicazioni, in cui valori molto alti potrebbero portare a situazioni critiche (penso ad esempio a un sensore che rivela la temperatura e, nel caso di temperatura eccessiva, vada ad attivare un sistema di emergenza), è sicuramente preferibile una maggiore sensibilità a errori grandi e quindi la scelta migliore sarebbe Ridge. \n",
        "\n",
        "<br>\n",
        "\n",
        "- Il tempo di esecuzione del KNN è di gran lunga inferiore a quello della NN: \n",
        "  - NN: 10m 8s\n",
        "  - KNN: 1m 52s\n"
      ]
    }
  ],
  "metadata": {
    "colab": {
      "provenance": []
    },
    "kernelspec": {
      "display_name": "Python 3",
      "name": "python3"
    },
    "language_info": {
      "name": "python"
    }
  },
  "nbformat": 4,
  "nbformat_minor": 0
}